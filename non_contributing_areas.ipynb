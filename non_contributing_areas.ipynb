{
 "cells": [
  {
   "cell_type": "markdown",
   "metadata": {},
   "source": [
    "This notebook loads data of non-contributing areas in the Canadian Prairie region, and determines the fraction of basin area which is non-contributing (on average).  In particular, the fraction of non-contributing area is calculated for the stations in the eastern cluster of stations as identified in \"Evaluation and interpretation of convolutional-recurrent networks for regional hydrological modelling\".  The data is downloaded from:  \n",
    "https://open.canada.ca/data/en/dataset/adb2e613-f193-42e2-987e-2cc9d90d2b7a\n",
    "\n",
    "References:  \n",
    "Anderson, S. and Radic, V.: Evaluation and interpretation of convolutional-recurrent networks for regional hydrological modelling, Hydrol. Earth Syst. Sci. Discuss. [preprint], https://doi.org/10.5194/hess-2021-113, in review, 2021.  \n",
    "Government of Canada: Areas of Non-Contributing Drainage within Total Gross Drainage Areas of the AAFC Watersheds Project - 2013, [online] Available from: https://open.canada.ca/data/en/dataset/adb2e613-f193-42e2-987e-2cc9d90d2b7a, 2020."
   ]
  },
  {
   "cell_type": "code",
   "execution_count": 2,
   "metadata": {},
   "outputs": [],
   "source": [
    "#import libraries\n",
    "\n",
    "import matplotlib.pyplot as plt\n",
    "import numpy as np\n",
    "import geopandas as gpd\n",
    "import os"
   ]
  },
  {
   "cell_type": "code",
   "execution_count": 3,
   "metadata": {},
   "outputs": [],
   "source": [
    "#create list of unique filename prefixes in the .gdb folder (the same filename prefix will have .gdbtable, .gdptablx, .spx, and .gdbindexes)\n",
    "\n",
    "dir_basins = '/Users/samanderson/repos/cnn_lstm_era/Data/HYD_AAFC_TOTAL_NON_CTRB_DRAIN.gdb/'\n",
    "\n",
    "polygon_files = []\n",
    "unique_filenames = []\n",
    "\n",
    "for root, dirs, files in os.walk(dir_basins):\n",
    "    for name in sorted(files):\n",
    "        file = os.path.join(root,name)\n",
    "        file_short = file.replace('/','.').split('.')[-2]\n",
    "        polygon_files.append(file) #full path name of this file\n",
    "        if file_short[0] == 'a':\n",
    "            unique_filenames.append(file.replace('/','.').split('.')[-2])\n",
    "\n",
    "unique_filenames = list(set(unique_filenames))"
   ]
  },
  {
   "cell_type": "code",
   "execution_count": 4,
   "metadata": {},
   "outputs": [
    {
     "name": "stdout",
     "output_type": "stream",
     "text": [
      "1/8\n",
      "2/8\n",
      "3/8\n",
      "4/8\n",
      "5/8\n",
      "6/8\n",
      "7/8\n",
      "8/8\n"
     ]
    }
   ],
   "source": [
    "basin_files = [None] * len(unique_filenames)\n",
    "\n",
    "for zz, filename in enumerate(unique_filenames): #for each unique file prefix\n",
    "\n",
    "    #print statement every for keeping track\n",
    "    print(str(zz+1) + '/' + str(len(unique_filenames)))\n",
    "\n",
    "    #load one unique file\n",
    "    basin = gpd.read_file(root + filename + '.gdbtable') #read in basin info\n",
    "    basin_files[zz] = basin       "
   ]
  },
  {
   "cell_type": "code",
   "execution_count": 12,
   "metadata": {},
   "outputs": [],
   "source": [
    "basins = basin_files[2] #this is the file with the basin data\n",
    "basinIDs = basins['STATION_NUMBER']\n",
    "basin_names = basins['STATION_NAME']\n",
    "area_gross = basins['TOTAL_GROSS_SQKM_AREA']\n",
    "area_effective = basins['TOTAL_EFFECTIVE_SQKM_AREA']\n",
    "area_non = basins['TOTAL_NON_CONTRIB_SQKM_AREA']\n",
    "frac_non = area_non / area_gross\n",
    "geometry = basins['geometry']"
   ]
  },
  {
   "cell_type": "code",
   "execution_count": 13,
   "metadata": {},
   "outputs": [
    {
     "data": {
      "image/png": "[encoded data removed]",
      "text/plain": [
       "<Figure size 432x288 with 1 Axes>"
      ]
     },
     "metadata": {
      "needs_background": "light"
     },
     "output_type": "display_data"
    }
   ],
   "source": [
    "#visualize non-contributing areas across all basins\n",
    "\n",
    "fig, ax = plt.subplots()\n",
    "ax.hist(frac_non, alpha = 0.5, edgecolor = 'k')\n",
    "ax.set_xlabel('Fraction Non Contributing Area')\n",
    "ax.set_ylabel('Count')\n",
    "ax.set_title('Fraction Non Contributing: Whole Region')\n",
    "plt.show()"
   ]
  },
  {
   "cell_type": "code",
   "execution_count": 14,
   "metadata": {},
   "outputs": [],
   "source": [
    "#basin IDs of stations in the eastern cluster\n",
    "basins_eastern = ['05AH037', '05AH041', '05BM014', '05CB001', '05CB004', '05CC001', '05CC007',\n",
    " '05CC009', '05CC010', '05CD006', '05CE006', '05CE010', '05CE011', '05CE018',\n",
    " '05CK001', '05CK005', '05DF006', '05DF007', '05EA005', '05EC002', '05EC005',\n",
    " '05ED002', '05EE005', '05EE006', '05FA001', '05FB002', '05FC002', '05FE002',\n",
    " '05GA008', '06AA001', '06AA002', '07BB005', '07BC006', '11AA026']"
   ]
  },
  {
   "cell_type": "code",
   "execution_count": 15,
   "metadata": {},
   "outputs": [
    {
     "name": "stderr",
     "output_type": "stream",
     "text": [
      "/Users/samanderson/anaconda3/envs/cnn_lstm_era/lib/python3.6/site-packages/numpy/core/fromnumeric.py:56: FutureWarning: Series.nonzero() is deprecated and will be removed in a future version.Use Series.to_numpy().nonzero() instead\n",
      "  return getattr(obj, method)(*args, **kwds)\n"
     ]
    }
   ],
   "source": [
    "eastern_non_area = np.zeros(len(basins_eastern))\n",
    "eastern_effective = np.zeros(len(basins_eastern))\n",
    "eastern_gross = np.ones(len(basins_eastern))\n",
    "eastern_name = [None]*len(basins_eastern)\n",
    "for kk, basin in enumerate(basins_eastern):\n",
    "    inds = np.argwhere(basinIDs==basins_eastern[kk])\n",
    "    for ind in inds: #some stations appear multiple times with slightly different gross areas; just take last value\n",
    "        eastern_non_area[kk] = area_non[ind]\n",
    "        eastern_effective[kk] = area_effective[ind]\n",
    "        eastern_gross[kk] = area_gross[ind]\n",
    "        eastern_name[kk] = basin_names[ind]\n",
    "    \n",
    "eastern_frac = eastern_non_area / eastern_gross"
   ]
  },
  {
   "cell_type": "code",
   "execution_count": 16,
   "metadata": {},
   "outputs": [
    {
     "name": "stdout",
     "output_type": "stream",
     "text": [
      "Number of stations without non-contributing areas: 4\n",
      "Min fraction of non-contributing areas:  0.0\n",
      "Max fraction of non-contributing areas:  0.79\n",
      "Mean fraction of non-contributing areas: 0.20\n"
     ]
    }
   ],
   "source": [
    "print('Number of stations without non-contributing areas: ' + str(len(np.argwhere(eastern_frac==0))))\n",
    "print('Min fraction of non-contributing areas:  ' + str(np.min(eastern_frac)))\n",
    "print('Max fraction of non-contributing areas:  ' + str(np.max(eastern_frac))[:4])\n",
    "print('Mean fraction of non-contributing areas: ' + str(np.mean(eastern_frac))[:4])"
   ]
  },
  {
   "cell_type": "code",
   "execution_count": 17,
   "metadata": {},
   "outputs": [
    {
     "data": {
      "image/png": "[encoded data removed]",
      "text/plain": [
       "<Figure size 432x288 with 1 Axes>"
      ]
     },
     "metadata": {
      "needs_background": "light"
     },
     "output_type": "display_data"
    }
   ],
   "source": [
    "#visualize non-contributing areas across basins in eastern cluster\n",
    "\n",
    "fig, ax = plt.subplots()\n",
    "ax.hist(eastern_frac, alpha = 0.5, edgecolor = 'k')\n",
    "ax.set_xlabel('Fraction Non Contributing Area')\n",
    "ax.set_ylabel('Count')\n",
    "ax.set_title('Fraction Non Contributing: Whole Region')\n",
    "plt.show()"
   ]
  },
  {
   "cell_type": "code",
   "execution_count": 19,
   "metadata": {},
   "outputs": [
    {
     "name": "stdout",
     "output_type": "stream",
     "text": [
      "Number of stations without non-contributing areas: 0\n",
      "Min fraction of non-contributing areas:  0.013029598052818425\n",
      "Max fraction of non-contributing areas:  0.79\n",
      "Mean fraction of non-contributing areas: 0.23\n"
     ]
    }
   ],
   "source": [
    "eastern_with_non = eastern_frac[np.squeeze(np.argwhere(eastern_frac > 0))]\n",
    "print('Number of stations without non-contributing areas: ' + str(len(np.argwhere(eastern_with_non==0))))\n",
    "print('Min fraction of non-contributing areas:  ' + str(np.min(eastern_with_non)))\n",
    "print('Max fraction of non-contributing areas:  ' + str(np.max(eastern_with_non))[:4])\n",
    "print('Mean fraction of non-contributing areas: ' + str(np.mean(eastern_with_non))[:4])"
   ]
  },
  {
   "cell_type": "code",
   "execution_count": null,
   "metadata": {},
   "outputs": [],
   "source": []
  }
 ],
 "metadata": {
  "kernelspec": {
   "display_name": "Python 3",
   "language": "python",
   "name": "python3"
  },
  "language_info": {
   "codemirror_mode": {
    "name": "ipython",
    "version": 3
   },
   "file_extension": ".py",
   "mimetype": "text/x-python",
   "name": "python",
   "nbconvert_exporter": "python",
   "pygments_lexer": "ipython3",
   "version": "3.6.8"
  }
 },
 "nbformat": 4,
 "nbformat_minor": 2
}
