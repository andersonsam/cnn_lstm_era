{
  "nbformat": 4,
  "nbformat_minor": 0,
  "metadata": {
    "kernelspec": {
      "display_name": "Python [conda env:cnn_lstm_era] *",
      "language": "python",
      "name": "conda-env-cnn_lstm_era-py"
    },
    "language_info": {
      "codemirror_mode": {
        "name": "ipython",
        "version": 3
      },
      "file_extension": ".py",
      "mimetype": "text/x-python",
      "name": "python",
      "nbconvert_exporter": "python",
      "pygments_lexer": "ipython3",
      "version": "3.6.8"
    },
    "colab": {
      "name": "cnn_lstm_ERA5_basic.ipynb",
      "provenance": [],
      "toc_visible": true,
      "machine_shape": "hm"
    },
    "accelerator": "GPU"
  },
  "cells": [
    {
      "cell_type": "markdown",
      "metadata": {
        "id": "jpSKQJBp4doM",
        "colab_type": "text"
      },
      "source": [
        "# Weather --> CNN --> LSTM --> Streamflow"
      ]
    },
    {
      "cell_type": "markdown",
      "metadata": {
        "id": "uuzqoXuU4doO",
        "colab_type": "text"
      },
      "source": [
        "# Preamble"
      ]
    },
    {
      "cell_type": "code",
      "metadata": {
        "id": "7a_42-5jMQC9",
        "colab_type": "code",
        "colab": {
          "base_uri": "https://localhost:8080/",
          "height": 102
        },
        "outputId": "017ef541-7e07-422d-b36d-7a0bc7b8d4a1"
      },
      "source": [
        "#check memory available for use\n",
        "\n",
        "# memory footprint support libraries/code\n",
        "!ln -sf /opt/bin/nvidia-smi /usr/bin/nvidia-smi\n",
        "!pip install gputil\n",
        "!pip install psutil\n",
        "!pip install humanize\n",
        "import psutil\n",
        "import humanize\n",
        "import os\n",
        "import GPUtil as GPU\n",
        "GPUs = GPU.getGPUs()\n",
        "# XXX: only one GPU on Colab and isn’t guaranteed\n",
        "gpu = GPUs[0]\n",
        "def printm():\n",
        " process = psutil.Process(os.getpid())\n",
        " print(\"Gen RAM Free: \" + humanize.naturalsize( psutil.virtual_memory().available ), \" | Proc size: \" + humanize.naturalsize( process.memory_info().rss))\n",
        " print(\"GPU RAM Free: {0:.0f}MB | Used: {1:.0f}MB | Util {2:3.0f}% | Total {3:.0f}MB\".format(gpu.memoryFree, gpu.memoryUsed, gpu.memoryUtil*100, gpu.memoryTotal))\n",
        "printm() "
      ],
      "execution_count": 1,
      "outputs": [
        {
          "output_type": "stream",
          "text": [
            "Requirement already satisfied: gputil in /usr/local/lib/python3.6/dist-packages (1.4.0)\n",
            "Requirement already satisfied: psutil in /usr/local/lib/python3.6/dist-packages (5.4.8)\n",
            "Requirement already satisfied: humanize in /usr/local/lib/python3.6/dist-packages (0.5.1)\n",
            "Gen RAM Free: 26.3 GB  | Proc size: 153.1 MB\n",
            "GPU RAM Free: 16280MB | Used: 0MB | Util   0% | Total 16280MB\n"
          ],
          "name": "stdout"
        }
      ]
    },
    {
      "cell_type": "code",
      "metadata": {
        "id": "3JhG8GcN4doP",
        "colab_type": "code",
        "colab": {
          "base_uri": "https://localhost:8080/",
          "height": 272
        },
        "outputId": "e9de14e1-51d9-4626-c112-d429c2b0a2dc"
      },
      "source": [
        "#first: are you working in colab?\n",
        "colab = 1\n",
        "\n",
        "if colab:\n",
        "    \n",
        "    #mount drive\n",
        "    from google.colab import drive\n",
        "    drive.mount('/content/drive')\n",
        "    \n",
        "    #define path to google drive data\n",
        "    dataPath = '/content/drive/My Drive/Colab Notebooks/T_P_F_pca_lstm/'\n",
        "\n",
        "    #download required libraries that are not already in colab\n",
        "    !pip install geopandas\n",
        "    \n",
        "else:\n",
        "    \n",
        "    dataPath = ''"
      ],
      "execution_count": 2,
      "outputs": [
        {
          "output_type": "stream",
          "text": [
            "Drive already mounted at /content/drive; to attempt to forcibly remount, call drive.mount(\"/content/drive\", force_remount=True).\n",
            "Requirement already satisfied: geopandas in /usr/local/lib/python3.6/dist-packages (0.6.3)\n",
            "Requirement already satisfied: shapely in /usr/local/lib/python3.6/dist-packages (from geopandas) (1.7.0)\n",
            "Requirement already satisfied: pyproj in /usr/local/lib/python3.6/dist-packages (from geopandas) (2.4.2.post1)\n",
            "Requirement already satisfied: pandas>=0.23.0 in /usr/local/lib/python3.6/dist-packages (from geopandas) (0.25.3)\n",
            "Requirement already satisfied: fiona in /usr/local/lib/python3.6/dist-packages (from geopandas) (1.8.13)\n",
            "Requirement already satisfied: numpy>=1.13.3 in /usr/local/lib/python3.6/dist-packages (from pandas>=0.23.0->geopandas) (1.17.5)\n",
            "Requirement already satisfied: pytz>=2017.2 in /usr/local/lib/python3.6/dist-packages (from pandas>=0.23.0->geopandas) (2018.9)\n",
            "Requirement already satisfied: python-dateutil>=2.6.1 in /usr/local/lib/python3.6/dist-packages (from pandas>=0.23.0->geopandas) (2.6.1)\n",
            "Requirement already satisfied: cligj>=0.5 in /usr/local/lib/python3.6/dist-packages (from fiona->geopandas) (0.5.0)\n",
            "Requirement already satisfied: click<8,>=4.0 in /usr/local/lib/python3.6/dist-packages (from fiona->geopandas) (7.0)\n",
            "Requirement already satisfied: attrs>=17 in /usr/local/lib/python3.6/dist-packages (from fiona->geopandas) (19.3.0)\n",
            "Requirement already satisfied: six>=1.7 in /usr/local/lib/python3.6/dist-packages (from fiona->geopandas) (1.12.0)\n",
            "Requirement already satisfied: munch in /usr/local/lib/python3.6/dist-packages (from fiona->geopandas) (2.5.0)\n",
            "Requirement already satisfied: click-plugins>=1.0 in /usr/local/lib/python3.6/dist-packages (from fiona->geopandas) (1.1.1)\n"
          ],
          "name": "stdout"
        }
      ]
    },
    {
      "cell_type": "code",
      "metadata": {
        "id": "dJBATEiN4doT",
        "colab_type": "code",
        "colab": {
          "base_uri": "https://localhost:8080/",
          "height": 34
        },
        "outputId": "af963c17-d391-4230-a0f9-aa26e7d212f4"
      },
      "source": [
        "#import required libraries\n",
        "\n",
        "import pandas as pd\n",
        "import numpy as np\n",
        "#from netCDF4 import Dataset\n",
        "%tensorflow_version 2.x\n",
        "import tensorflow\n",
        "import tensorflow.keras\n",
        "from tensorflow.keras.layers import Conv2D, MaxPooling2D, Dense, LSTM, Flatten, TimeDistributed, Dropout, Input\n",
        "from tensorflow.keras.models import load_model\n",
        "from tensorflow.keras.callbacks import EarlyStopping\n",
        "from tensorflow.keras.preprocessing.image import ImageDataGenerator\n",
        "from tensorflow.keras import Model, Sequential, regularizers\n",
        "import pickle\n",
        "import matplotlib.pyplot as plt\n",
        "import geopandas as gpd\n",
        "from sklearn.cluster import KMeans\n",
        "from scipy import interpolate\n",
        "import time\n",
        "import seaborn as sns"
      ],
      "execution_count": 3,
      "outputs": [
        {
          "output_type": "stream",
          "text": [
            "TensorFlow 2.x selected.\n"
          ],
          "name": "stdout"
        }
      ]
    },
    {
      "cell_type": "code",
      "metadata": {
        "id": "uoiFk8354doW",
        "colab_type": "code",
        "colab": {}
      },
      "source": [
        "#define functions that we'll use\n",
        "\n",
        "def nse(y_obs, y_model):\n",
        "\n",
        "  \"\"\"\n",
        "  NSE = nse(y_obs, y_model)\n",
        "\n",
        "  y_obs, y_model --> these are arrays of the same length (1 x N or N x1) where N is the number of observations in time\n",
        "  \"\"\"\n",
        "\n",
        "  y_model = y_model.reshape((-1,1))\n",
        "  y_obs = y_obs.reshape((-1,1))\n",
        "  nse = 1 - np.sum((y_model - y_obs)**2) / np.sum((y_obs - np.mean(y_obs))**2)\n",
        "  return nse\n",
        "\n",
        "def nse_rolling(y_obs, y_model, window, stride = 1):\n",
        "\n",
        "  \"\"\"\n",
        "  NSE_rolling = nse_rolling(y_obs, y_model, window, stride)\n",
        "\n",
        "  y_obs, y_model --> these are arrays of the same length (1 x N or N x 1) where N is the number of observations in time\n",
        "  window --> this is the length of time over which to compute NSE, which will roll accross the total time period\n",
        "  stride --> default stride = 1; length of step to take when rolling (i.e. stride = 365 computes yearly NSE with no overlap)\n",
        "  \"\"\"\n",
        "\n",
        "  NSE_rolling = []\n",
        "\n",
        "  y_model = y_model.reshape((-1,1))\n",
        "  y_obs = y_obs.reshape((-1,1))\n",
        "\n",
        "  startInds = range(0, len(y_model) - window, stride)\n",
        "  for startInd in startInds:\n",
        "    y_model_window = y_model[startInd:startInd+window] \n",
        "    y_obs_window = y_obs[startInd:startInd+window]\n",
        "    NSE = nse(y_obs_window, y_model_window)\n",
        "    NSE_rolling.append(NSE)\n",
        "\n",
        "  return NSE_rolling\n",
        "\n",
        "def plot_AB(prov='AB'):\n",
        "\n",
        "    \"\"\"\n",
        "    plot borders of alberta\n",
        "    \n",
        "    example:\n",
        "    import geopandas as gpd\n",
        "    import matplotlib.pyplot as plt\n",
        "    plot_AB()\n",
        "    plt.show()\n",
        "    \"\"\"\n",
        "    \n",
        "    provIndex=0\n",
        "    provshapes_filename = '/content/drive/My Drive/Colab Notebooks/cnn_lstm_era/PROVINCE.SHP'\n",
        "    provshapes = gpd.read_file(provshapes_filename)\n",
        "    provPoly = provshapes['geometry'][provIndex]\n",
        "    lonBorder,latBorder = provPoly.exterior.coords.xy \n",
        "\n",
        "    plt.plot(lonBorder,latBorder,'k')\n",
        "\n",
        "def rmse(target,prediction):\n",
        "  \"\"\" RMSE = rmse(target,prediction) \"\"\"\n",
        "\n",
        "  return(np.sqrt(((target.reshape(-1,1) - prediction.reshape(-1,1))**2).sum()/len(target.reshape(-1,1))))\n",
        "\n",
        "def rmse_group(*args):\n",
        "  rmse_group = []\n",
        "  for arg in args:\n",
        "    for other_arg in args:\n",
        "      rmse_group.append(rmse(arg,other_arg))\n",
        "\n",
        "  rmse_group = np.mean(rmse_group)\n",
        "\n",
        "  return rmse_group"
      ],
      "execution_count": 0,
      "outputs": []
    },
    {
      "cell_type": "markdown",
      "metadata": {
        "id": "yRjFBB8W4doa",
        "colab_type": "text"
      },
      "source": [
        "# Load data and preprocess"
      ]
    },
    {
      "cell_type": "code",
      "metadata": {
        "id": "Gb77uvKc4dob",
        "colab_type": "code",
        "colab": {}
      },
      "source": [
        "#load data\n",
        "\n",
        "pickle_in = open(dataPath + 'flowDict.pickle','rb')\n",
        "flowDict = pickle.load(pickle_in)\n",
        "\n",
        "pickle_in = open(dataPath + 'tempDict_ERA5.pickle','rb')\n",
        "tempDict = pickle.load(pickle_in)\n",
        "\n",
        "pickle_in = open(dataPath + 'precDict_ERA5.pickle','rb')\n",
        "precDict = pickle.load(pickle_in)\n",
        "\n",
        "pickle_in = open(dataPath + 'spcHDict_ERA5.pickle','rb')\n",
        "spcHDict = pickle.load(pickle_in)\n",
        "\n",
        "pickle_in = open(dataPath + 'ssrdDict_ERA5.pickle','rb')\n",
        "ssrdDict = pickle.load(pickle_in)\n",
        "\n",
        "#unpack data\n",
        "\n",
        "stationLat = flowDict['stationLat']\n",
        "stationLon = flowDict['stationLon']\n",
        "eraLat = tempDict['latERA']\n",
        "eraLon = tempDict['lonERA']\n",
        "\n",
        "flowDays = flowDict['windowDays']\n",
        "flowMonths = flowDict['windowMonths']\n",
        "flowYears = flowDict['windowYears']\n",
        "eraDays = tempDict['daysERA']\n",
        "eraMonths = tempDict['monthsERA']\n",
        "eraYears = tempDict['yearsERA']\n",
        "\n",
        "F = flowDict['all_flowwindow_norm_NF'] #normalized discharge with nans filled (NF)\n",
        "T = tempDict['T']\n",
        "Tmax = tempDict['Tmax']\n",
        "Tmin = tempDict['Tmin']\n",
        "P = precDict['P']\n",
        "H = spcHDict['H']\n",
        "S = ssrdDict['S']"
      ],
      "execution_count": 0,
      "outputs": []
    },
    {
      "cell_type": "code",
      "metadata": {
        "id": "5WCWz4oFDmW0",
        "colab_type": "code",
        "colab": {}
      },
      "source": [
        "del flowDict, tempDict, precDict, spcHDict, ssrdDict"
      ],
      "execution_count": 0,
      "outputs": []
    },
    {
      "cell_type": "code",
      "metadata": {
        "id": "V5UWdcBY4doe",
        "colab_type": "code",
        "colab": {}
      },
      "source": [
        "#set nan values to mean values of field (ie: out of province values\n",
        "\n",
        "meanT = np.nanmean(T)\n",
        "meanTmax = np.nanmean(Tmax)\n",
        "meanTmin = np.nanmean(Tmin)\n",
        "meanP = np.nanmean(P)\n",
        "meanH = np.nanmean(H)\n",
        "meanS = np.nanmean(S)\n",
        "\n",
        "Tall = np.copy(T)\n",
        "Tall[np.where(np.isnan(Tall))] = np.nanmean(T)\n",
        "T = Tall\n",
        "\n",
        "Tmaxall = np.copy(Tmax)\n",
        "Tmaxall[np.where(np.isnan(Tmaxall))] = np.nanmean(Tmax)\n",
        "Tmax = Tmaxall\n",
        "\n",
        "Tminall = np.copy(Tmin)\n",
        "Tminall[np.where(np.isnan(Tminall))] = np.nanmean(Tmin)\n",
        "Tmin = Tminall\n",
        "\n",
        "Pall = np.copy(P)\n",
        "Pall[np.where(np.isnan(Pall))] = np.nanmean(P)\n",
        "P = Pall\n",
        "\n",
        "Hall = np.copy(H)\n",
        "Hall[np.where(np.isnan(Hall))] = np.nanmean(H)\n",
        "H = Hall\n",
        "\n",
        "Sall = np.copy(S)\n",
        "Sall[np.where(np.isnan(Sall))] = np.nanmean(S)\n",
        "S = Sall"
      ],
      "execution_count": 0,
      "outputs": []
    },
    {
      "cell_type": "code",
      "metadata": {
        "id": "PRsTfhfxTIsp",
        "colab_type": "code",
        "colab": {}
      },
      "source": [
        "#select subset of stations?\n",
        "\n",
        "customStations = 1\n",
        "\n",
        "if customStations:\n",
        "\n",
        "  stationInds = np.array([18,19,34,35,59,60,61,64,69,102,103,104,106,107,127,150,163,176]) - 1\n",
        "  stationInds = np.array([1,2,3,9,13,26,27,41,49,62,68,76,77,78,86,120,130,131,132,134,167,18,19,34,35,59,60,61,64,69,102,103,104,106,107,127,150,163,176])-1 #these are the stations with a record > 90 years, mean flow > 1 m^3/s\n",
        "  stationInds = np.array([2,13,27,41,62,78,86,120,131,132,134,167,19,35,59,60,61,64,102,103,106,107,127,150,163,176]) - 1 #these are the stations with a record > 90 years, mean flow > 1 m^3/s, fewest nans\n",
        "  stationInds = np.array([2,13,27,62,86,120,132,134,167,19,35,59,60,64,102,103,106,107,127,150,163,176]) - 1 #these are the stations with a record > 90 years, mean flow > 1 m^3/s, fewest nans, and don't have a min flow close to zero\n",
        "  stationInds = np.array([19,35,59,60,64,102,103,106,107,127,163,176]) - 1 #these are the stations with a record > 90 years, mean flow > 1 m^3/s, fewest nans, and don't have a min flow close to zero\n",
        "  F = np.asarray(F)\n",
        "  F = np.transpose(np.squeeze(F[stationInds]))\n",
        "\n",
        "else:\n",
        "\n",
        "  stationInds = np.arange(0,194,1)\n",
        "  F = np.asarray(np.transpose(np.squeeze(F[indStartFlow:])))"
      ],
      "execution_count": 0,
      "outputs": []
    },
    {
      "cell_type": "code",
      "metadata": {
        "id": "wt4EV44L4doh",
        "colab_type": "code",
        "colab": {}
      },
      "source": [
        "#make data have same time range\n",
        "startYear = max(int(np.min(eraYears)),int(np.min(flowYears)))\n",
        "finYear = min(int(np.max(eraYears)),int(np.max(flowYears)))\n",
        "\n",
        "indStartERA = min(np.argwhere(eraYears==startYear))[0]\n",
        "indStartFlow = min(np.argwhere(flowYears==startYear))[0]\n",
        "\n",
        "indFinERA = max(np.argwhere(eraYears==finYear))[0]\n",
        "indFinFlow = max(np.argwhere(flowYears==finYear))[0]\n",
        "\n",
        "F = F[indStartFlow:indFinFlow]\n",
        "T = np.asarray(T[indStartERA:indFinERA])\n",
        "Tmax = np.asarray(Tmax[indStartERA:indFinERA])\n",
        "Tmin = np.asarray(Tmin[indStartERA:indFinERA])\n",
        "P = np.asarray(P[indStartERA:indFinERA])\n",
        "H = np.asarray(H[indStartERA:indFinERA])\n",
        "S = np.asarray(S[indStartERA:indFinERA])\n",
        "\n",
        "flowDays = flowDays[indStartFlow:indFinFlow]\n",
        "flowMonths = flowMonths[indStartFlow:indFinFlow]\n",
        "flowYears = flowYears[indStartFlow:indFinFlow]\n",
        "\n",
        "eraDays = eraDays[indStartERA:indFinERA]\n",
        "eraMonths = eraMonths[indStartERA:indFinERA]\n",
        "eraYears = eraYears[indStartERA:indFinERA]"
      ],
      "execution_count": 0,
      "outputs": []
    },
    {
      "cell_type": "code",
      "metadata": {
        "id": "WgJaFjkS-rV-",
        "colab_type": "code",
        "colab": {}
      },
      "source": [
        "#reduce spatial extent to only bound the stations of interest (reduce memory requirements)\n",
        "\n",
        "minLon = np.min(stationLon[stationInds])\n",
        "maxLon = np.max(stationLon[stationInds])\n",
        "minLat = np.min(stationLat[stationInds])\n",
        "maxLat = np.max(stationLat[stationInds])\n",
        "\n",
        "indMinLonERA = np.argmin(np.abs(eraLon - minLon))\n",
        "indMaxLonERA = np.argmin(np.abs(eraLon - maxLon))\n",
        "indMinLatERA = np.argmin(np.abs(eraLat - minLat))\n",
        "indMaxLatERA = np.argmin(np.abs(eraLat - maxLat))\n",
        "\n",
        "T = T[:, indMaxLatERA:indMinLatERA, indMinLonERA:indMaxLonERA]\n",
        "Tmax = Tmax[:, indMaxLatERA:indMinLatERA, indMinLonERA:indMaxLonERA]\n",
        "Tmin = Tmin[:, indMaxLatERA:indMinLatERA, indMinLonERA:indMaxLonERA]\n",
        "P = P[:, indMaxLatERA:indMinLatERA, indMinLonERA:indMaxLonERA]\n",
        "H = H[:, indMaxLatERA:indMinLatERA, indMinLonERA:indMaxLonERA]\n",
        "S = S[:, indMaxLatERA:indMinLatERA, indMinLonERA:indMaxLonERA]"
      ],
      "execution_count": 0,
      "outputs": []
    },
    {
      "cell_type": "code",
      "metadata": {
        "id": "T9tEPp3L4dok",
        "colab_type": "code",
        "colab": {
          "base_uri": "https://localhost:8080/",
          "height": 34
        },
        "outputId": "d36d998b-af1f-479e-8e96-a1c6500f9035"
      },
      "source": [
        "print(np.shape(F),np.shape(T),np.shape(P),np.shape(H),np.shape(S))"
      ],
      "execution_count": 23,
      "outputs": [
        {
          "output_type": "stream",
          "text": [
            "(8765, 12) (8765, 18, 24) (8765, 18, 24) (8765, 18, 24) (8765, 18, 24)\n"
          ],
          "name": "stdout"
        }
      ]
    },
    {
      "cell_type": "code",
      "metadata": {
        "id": "N3Ol-F6GFTDW",
        "colab_type": "code",
        "colab": {}
      },
      "source": [
        ""
      ],
      "execution_count": 0,
      "outputs": []
    },
    {
      "cell_type": "code",
      "metadata": {
        "id": "cCcY75XZBUi7",
        "colab_type": "code",
        "colab": {
          "base_uri": "https://localhost:8080/",
          "height": 504
        },
        "outputId": "1106d743-2bf1-49ae-822e-5ba9948bb5bf"
      },
      "source": [
        "extentERA = [minLon,maxLon,minLat,maxLat]\n",
        "\n",
        "plt.figure(figsize = (6,8))\n",
        "plot_AB()\n",
        "plt.imshow(T[0],aspect='auto',extent = extentERA, cmap = 'RdBu_r')\n",
        "plt.scatter(stationLon[stationInds],stationLat[stationInds], facecolor = 'w', edgecolor = 'k', s = 75)\n",
        "plt.title('Study Domain',fontsize = 20)\n",
        "\n",
        "plt.show()"
      ],
      "execution_count": 24,
      "outputs": [
        {
          "output_type": "display_data",
          "data": {
            "image/png": "[encoded data removed]",
            "text/plain": [
              "<Figure size 432x576 with 1 Axes>"
            ]
          },
          "metadata": {
            "tags": []
          }
        }
      ]
    },
    {
      "cell_type": "code",
      "metadata": {
        "id": "IVTbUGuU4dom",
        "colab_type": "code",
        "colab": {}
      },
      "source": [
        "#prep data: standardize\n",
        "\n",
        "#indices of testing/training\n",
        "trainStartYear = 1987\n",
        "trainFinYear = 2005\n",
        "testStartYear = 2006\n",
        "testFinYear = 2010\n",
        "\n",
        "trainInds = np.squeeze(np.argwhere((flowYears>=trainStartYear) & (flowYears<=trainFinYear)))\n",
        "testInds = np.squeeze(np.argwhere((flowYears>=testStartYear) & (flowYears<=testFinYear)))\n",
        "\n",
        "#standardize variables individually (normalize wrt training period), then save as 32-bit rather than 64-bit for space\n",
        "Tmean_train = np.mean([T[trainInds[ii]] for ii in range(len(trainInds))])\n",
        "Tstd_train = np.std([T[trainInds[ii]] for ii in range(len(trainInds))])\n",
        "Tnorm = (T - Tmean_train)/Tstd_train\n",
        "Tnorm = np.single(Tnorm)\n",
        "\n",
        "Tmaxmean_train = np.mean([Tmax[trainInds[ii]] for ii in range(len(trainInds))])\n",
        "Tmaxstd_train = np.std([Tmax[trainInds[ii]] for ii in range(len(trainInds))])\n",
        "Tmaxnorm = (Tmax - Tmaxmean_train)/Tmaxstd_train\n",
        "Tmaxnorm = np.single(Tmaxnorm)\n",
        "\n",
        "Tminmean_train = np.mean([Tmin[trainInds[ii]] for ii in range(len(trainInds))])\n",
        "Tminstd_train = np.std([Tmin[trainInds[ii]] for ii in range(len(trainInds))])\n",
        "Tminnorm = (Tmin - Tminmean_train)/Tminstd_train\n",
        "Tminnorm = np.single(Tnorm)\n",
        "\n",
        "Pmean_train = np.mean([P[trainInds[ii]] for ii in range(len(trainInds))])\n",
        "Pstd_train = np.std([P[trainInds[ii]] for ii in range(len(trainInds))])\n",
        "Pnorm = (P - Pmean_train)/Pstd_train\n",
        "Pnorm = np.single(Pnorm)\n",
        "\n",
        "Hmean_train = np.mean([H[trainInds[ii]] for ii in range(len(trainInds))])\n",
        "Hstd_train = np.std([H[trainInds[ii]] for ii in range(len(trainInds))])\n",
        "Hnorm = (H - Hmean_train)/Hstd_train\n",
        "Hnorm = np.single(Hnorm)\n",
        "\n",
        "Smean_train = np.mean([S[trainInds[ii]] for ii in range(len(trainInds))])\n",
        "Sstd_train = np.std([S[trainInds[ii]] for ii in range(len(trainInds))])\n",
        "Snorm = (S - Smean_train)/Sstd_train\n",
        "Snorm = np.single(Snorm)\n",
        "\n",
        "##Fmean_train = np.nanmean([F[ii][trainInds[366:]] for ii in range(len(F))])\n",
        "##Fstd_train = np.nanstd([F[ii][trainInds[366:]] for ii in range(len(F))])\n",
        "#Fmean_train = np.mean(F[trainInds[366:],:])\n",
        "#Fstd_train = np.std(F[trainInds[366:],:])\n",
        "#Fnorm = (F - Fmean_train)/Fstd_train\n",
        "#Fnorm = np.single(Fnorm)"
      ],
      "execution_count": 0,
      "outputs": []
    },
    {
      "cell_type": "code",
      "metadata": {
        "id": "fxJHvfiY4dop",
        "colab_type": "code",
        "colab": {}
      },
      "source": [
        "#normalize flow\n",
        "\n",
        "Fnorm = np.empty_like(F)\n",
        "for station in range(np.shape(F)[1]):\n",
        "    #F[:,station] = (F[:,station] - np.mean(F[:,station]))/np.std(F[:,station])\n",
        "    minF = np.min(F[:,station])\n",
        "    maxF = 2 * np.std(F[:,station])\n",
        "    Fnorm[:,station] = (F[:,station] - minF) / (maxF - minF)\n",
        "    \n",
        "#for inds in np.argwhere(F>10):\n",
        "#  F[inds[0],inds[1]] = 10"
      ],
      "execution_count": 0,
      "outputs": []
    },
    {
      "cell_type": "code",
      "metadata": {
        "id": "T3WG8zvd4dot",
        "colab_type": "code",
        "colab": {}
      },
      "source": [
        "#construct train and test predictor/target tensors\n",
        "\n",
        "#target data\n",
        "#y_train = np.squeeze([Fnorm[366:len(trainInds)+366,ii] for ii in range(np.shape(Fnorm)[1])])\n",
        "#y_test = np.squeeze([Fnorm[testInds[1:],ii] for ii in range(np.shape(Fnorm)[1])])\n",
        "#target data\n",
        "y_train = np.squeeze([Fnorm[365:trainInds[-1]+1,ii] for ii in range(np.shape(F)[1])]).T\n",
        "y_test = np.squeeze([Fnorm[testInds,ii] for ii in range(np.shape(F)[1])]).T\n",
        "y = np.empty((len(y_train[:,0])+len(y_test[:,0]),np.shape(F)[1])).T\n",
        "y[:,:len(y_train[:,0])] = y_train.T\n",
        "y[:,len(y_train[:,0]):] = y_test.T\n",
        "y = y.T\n",
        "\n",
        "#first, make (n_time x n_lon x n_lat x n_vars) tensor \n",
        "#x_intermediate = np.zeros((8766,17,43,2))\n",
        "nchannels = 3\n",
        "x_intermediate = np.empty(np.shape(Tmaxnorm) + (nchannels,),dtype=np.float16)#'single')\n",
        "x_intermediate[:,:,:,0] = Tmaxnorm\n",
        "x_intermediate[:,:,:,1] = Tminnorm\n",
        "x_intermediate[:,:,:,2] = Pnorm\n",
        "#x_intermediate[:,:,:,3] = Hnorm\n",
        "#x_intermediate[:,:,:,4] = Snorm\n",
        "x_train_intermediate = x_intermediate[trainInds]\n",
        "x_test_intermediate = x_intermediate[testInds]"
      ],
      "execution_count": 0,
      "outputs": []
    },
    {
      "cell_type": "code",
      "metadata": {
        "id": "tysSi1Ci4dov",
        "colab_type": "code",
        "colab": {}
      },
      "source": [
        "#now, convert x_intermediate into (n_time x 365 x n_lon x n_lat x n_vars) tensor\n",
        "#x = np.zeros((8765-365,365,45,41,5),dtype='single')\n",
        "x_train = np.empty((len(trainInds) - 365, 365,) + np.shape(Tmaxnorm)[1:] + (nchannels,),dtype=np.float16)\n",
        "x_test = np.empty((len(testInds), 365,) + np.shape(Tmaxnorm)[1:] + (nchannels,),dtype=np.float16)"
      ],
      "execution_count": 0,
      "outputs": []
    },
    {
      "cell_type": "code",
      "metadata": {
        "colab_type": "code",
        "id": "JEECQyReGa86",
        "colab": {}
      },
      "source": [
        "for ii in range(1000):\n",
        "    x_train[ii] = x_intermediate[ii:ii+365]"
      ],
      "execution_count": 0,
      "outputs": []
    },
    {
      "cell_type": "code",
      "metadata": {
        "colab_type": "code",
        "id": "vC7SsmlDGa89",
        "colab": {}
      },
      "source": [
        "for ii in range(1000,2000):\n",
        "    x_train[ii] = x_intermediate[ii:ii+365]"
      ],
      "execution_count": 0,
      "outputs": []
    },
    {
      "cell_type": "code",
      "metadata": {
        "colab_type": "code",
        "id": "i2G5qpeU7iIf",
        "colab": {}
      },
      "source": [
        "for ii in range(2000,3000):\n",
        "    x_train[ii] = x_intermediate[ii:ii+365]"
      ],
      "execution_count": 0,
      "outputs": []
    },
    {
      "cell_type": "code",
      "metadata": {
        "colab_type": "code",
        "id": "T9gQXQAk7iIh",
        "colab": {}
      },
      "source": [
        "for ii in range(3000,4000):\n",
        "    x_train[ii] = x_intermediate[ii:ii+365]"
      ],
      "execution_count": 0,
      "outputs": []
    },
    {
      "cell_type": "code",
      "metadata": {
        "colab_type": "code",
        "id": "xYq9vC5d7iIj",
        "colab": {}
      },
      "source": [
        "for ii in range(4000,len(trainInds)-365):\n",
        "    x_train[ii] = x_intermediate[ii:ii+365]"
      ],
      "execution_count": 0,
      "outputs": []
    },
    {
      "cell_type": "code",
      "metadata": {
        "colab_type": "code",
        "id": "NPYCij1V7iIl",
        "colab": {}
      },
      "source": [
        "for ii in range(1000):\n",
        "    x_test[ii] = x_intermediate[ii+len(trainInds)-365:ii+len(trainInds)]"
      ],
      "execution_count": 0,
      "outputs": []
    },
    {
      "cell_type": "code",
      "metadata": {
        "colab_type": "code",
        "id": "auRmmJ0c7iIn",
        "colab": {}
      },
      "source": [
        "for ii in range(1000,2000):\n",
        "    x_test[ii] = x_intermediate[ii+len(trainInds)-365:ii+len(trainInds)]"
      ],
      "execution_count": 0,
      "outputs": []
    },
    {
      "cell_type": "code",
      "metadata": {
        "id": "q1-Db6_wF_3A",
        "colab_type": "code",
        "colab": {}
      },
      "source": [
        "for ii in range(1000,len(testInds)):\n",
        "    x_test[ii] = x_intermediate[ii+len(trainInds)-365:ii+len(trainInds)]"
      ],
      "execution_count": 0,
      "outputs": []
    },
    {
      "cell_type": "code",
      "metadata": {
        "colab_type": "code",
        "id": "1Gr_E1lu7iIp",
        "colab": {}
      },
      "source": [
        "for ii in range(2000,len(testInds)-1):\n",
        "    x_test[ii] = x_intermediate[ii+len(trainInds)-365:ii+len(trainInds)]"
      ],
      "execution_count": 0,
      "outputs": []
    },
    {
      "cell_type": "code",
      "metadata": {
        "id": "dJPV7n604dpC",
        "colab_type": "code",
        "colab": {
          "base_uri": "https://localhost:8080/",
          "height": 595
        },
        "outputId": "0e66af52-fac5-42a6-f0c7-f3deb1ee84b0"
      },
      "source": [
        "#CNN model\n",
        "print('Building model...')\n",
        "\n",
        "learning_rate = 0.0001\n",
        "\n",
        "model = Sequential()\n",
        "\n",
        "model.add(TimeDistributed(\n",
        "    Conv2D(filters = 8, kernel_size = (3,3), activation='relu',data_format='channels_last', padding='same'), \n",
        "    input_shape=(365,)+np.shape(Tnorm[0])+(nchannels,)))\n",
        "\n",
        "model.add(TimeDistributed(\n",
        "    Conv2D(filters = 8, kernel_size = (3,3), activation='relu',data_format='channels_last', padding='same'), \n",
        "    input_shape=(365,)+np.shape(Tnorm[0])+(nchannels,)))\n",
        "\n",
        "model.add(TimeDistributed(MaxPooling2D(pool_size = 2)))\n",
        "\n",
        "model.add(TimeDistributed(\n",
        "    Conv2D(filters = 16, kernel_size = (2,2), activation='relu',data_format='channels_last', padding='same'), \n",
        "    ))\n",
        "\n",
        "model.add(TimeDistributed(\n",
        "    Conv2D(filters = 16, kernel_size = (2,2), activation='relu',data_format='channels_last', padding='same'), \n",
        "    ))\n",
        "\n",
        "model.add(TimeDistributed(MaxPooling2D(pool_size = 2)))\n",
        "\n",
        "#model.add(TimeDistributed(\n",
        "#    Conv2D(filters = 32, kernel_size = (2,2), activation='relu',data_format='channels_last', padding='same'), \n",
        "#    ))\n",
        "#\n",
        "#model.add(TimeDistributed(\n",
        "#    Conv2D(filters = 32, kernel_size = (2,2), activation='relu',data_format='channels_last', padding='same'), \n",
        "#    ))\n",
        "\n",
        "#model.add(TimeDistributed(MaxPooling2D(pool_size = 2)))\n",
        "\n",
        "model.add(TimeDistributed(Flatten()))\n",
        "\n",
        "model.add(Dropout(rate = 0.2))\n",
        "\n",
        "#LSTM model with time-distributed CNN as input\n",
        "#model.add(LSTM(units = 40, activation='tanh', recurrent_activation='hard_sigmoid', \n",
        "#               use_bias=True, kernel_initializer='glorot_uniform', recurrent_initializer='orthogonal', \n",
        "#               bias_initializer='zeros', unit_forget_bias=True, kernel_regularizer=None, \n",
        "#               recurrent_regularizer=None, bias_regularizer=None, activity_regularizer=None, \n",
        "#               kernel_constraint=None, recurrent_constraint=None, bias_constraint=None, implementation=1, \n",
        "#               return_sequences=True, return_state=False))\n",
        "#model.add(LSTM(units = 40, activation='tanh', recurrent_activation='hard_sigmoid', \n",
        "#               use_bias=True, kernel_initializer='glorot_uniform', recurrent_initializer='orthogonal', \n",
        "#               bias_initializer='zeros', unit_forget_bias=True, kernel_regularizer=None, \n",
        "#               recurrent_regularizer=None, bias_regularizer=None, activity_regularizer=None, \n",
        "#               kernel_constraint=None, recurrent_constraint=None, bias_constraint=None, implementation=1, \n",
        "#               return_sequences=False, return_state=False))\n",
        "#model.add(Dense(194, activation = 'relu'))\n",
        "\n",
        "model.add(LSTM(40, return_sequences=True))\n",
        "model.add(Dropout(rate=0.2))\n",
        "#model.add(LSTM(20, return_sequences=True))\n",
        "#model.add(Dropout(rate=0.1))\n",
        "\n",
        "model.add(Flatten())\n",
        "model.add(Dense(np.shape(Fnorm)[1], activation = 'linear'))\n",
        "\n",
        "#compile\n",
        "print('Compiling model...')\n",
        "model.compile(loss=tensorflow.keras.losses.MSE,\n",
        "              optimizer=tensorflow.keras.optimizers.Adam(lr=learning_rate),\n",
        "              )\n",
        "\n",
        "es = EarlyStopping(monitor='val_loss', \n",
        "                   mode = 'min',\n",
        "                   verbose = 1, \n",
        "                   patience = 3,\n",
        "                   restore_best_weights = True)\n",
        "\n",
        "model.summary()"
      ],
      "execution_count": 36,
      "outputs": [
        {
          "output_type": "stream",
          "text": [
            "Building model...\n",
            "Compiling model...\n",
            "Model: \"sequential\"\n",
            "_________________________________________________________________\n",
            "Layer (type)                 Output Shape              Param #   \n",
            "=================================================================\n",
            "time_distributed (TimeDistri (None, 365, 18, 24, 8)    224       \n",
            "_________________________________________________________________\n",
            "time_distributed_1 (TimeDist (None, 365, 18, 24, 8)    584       \n",
            "_________________________________________________________________\n",
            "time_distributed_2 (TimeDist (None, 365, 9, 12, 8)     0         \n",
            "_________________________________________________________________\n",
            "time_distributed_3 (TimeDist (None, 365, 9, 12, 16)    528       \n",
            "_________________________________________________________________\n",
            "time_distributed_4 (TimeDist (None, 365, 9, 12, 16)    1040      \n",
            "_________________________________________________________________\n",
            "time_distributed_5 (TimeDist (None, 365, 4, 6, 16)     0         \n",
            "_________________________________________________________________\n",
            "time_distributed_6 (TimeDist (None, 365, 384)          0         \n",
            "_________________________________________________________________\n",
            "dropout (Dropout)            (None, 365, 384)          0         \n",
            "_________________________________________________________________\n",
            "lstm (LSTM)                  (None, 365, 40)           68000     \n",
            "_________________________________________________________________\n",
            "dropout_1 (Dropout)          (None, 365, 40)           0         \n",
            "_________________________________________________________________\n",
            "flatten_1 (Flatten)          (None, 14600)             0         \n",
            "_________________________________________________________________\n",
            "dense (Dense)                (None, 12)                175212    \n",
            "=================================================================\n",
            "Total params: 245,588\n",
            "Trainable params: 245,588\n",
            "Non-trainable params: 0\n",
            "_________________________________________________________________\n"
          ],
          "name": "stdout"
        }
      ]
    },
    {
      "cell_type": "code",
      "metadata": {
        "id": "S7XOk1iGJOVZ",
        "colab_type": "code",
        "colab": {
          "base_uri": "https://localhost:8080/",
          "height": 34
        },
        "outputId": "cd79412b-3305-49af-8429-e56b33acd6d3"
      },
      "source": [
        "np.shape(x_train), np.shape(y_train), np.shape(x_test), np.shape(y_test)"
      ],
      "execution_count": 37,
      "outputs": [
        {
          "output_type": "execute_result",
          "data": {
            "text/plain": [
              "((6575, 365, 18, 24, 3), (6575, 12), (1825, 365, 18, 24, 3), (1825, 12))"
            ]
          },
          "metadata": {
            "tags": []
          },
          "execution_count": 37
        }
      ]
    },
    {
      "cell_type": "code",
      "metadata": {
        "id": "lh8_l4We4dpF",
        "colab_type": "code",
        "colab": {
          "base_uri": "https://localhost:8080/",
          "height": 392
        },
        "outputId": "790b3992-df85-4a46-bf2b-e1939efbf4ac"
      },
      "source": [
        "#train model\n",
        "\n",
        "trainModel = 1\n",
        "\n",
        "batch_size = 256\n",
        "epochs = 40\n",
        "\n",
        "if trainModel == 1:\n",
        "\n",
        "  history = model.fit(x_train,y_train, \n",
        "                      validation_split = 0.2,\n",
        "                      shuffle = True, \n",
        "                      epochs = epochs, \n",
        "                      batch_size = batch_size,\n",
        "                      verbose = 1)#, \n",
        "                      #callbacks = [es])"
      ],
      "execution_count": 38,
      "outputs": [
        {
          "output_type": "stream",
          "text": [
            "Train on 5260 samples, validate on 1315 samples\n",
            "Epoch 1/40\n",
            " 256/5260 [>.............................] - ETA: 1:09"
          ],
          "name": "stdout"
        },
        {
          "output_type": "error",
          "ename": "InternalError",
          "evalue": "ignored",
          "traceback": [
            "\u001b[0;31m---------------------------------------------------------------------------\u001b[0m",
            "\u001b[0;31mInternalError\u001b[0m                             Traceback (most recent call last)",
            "\u001b[0;32m<ipython-input-38-4a5ec116a453>\u001b[0m in \u001b[0;36m<module>\u001b[0;34m()\u001b[0m\n\u001b[1;32m     12\u001b[0m                       \u001b[0mepochs\u001b[0m \u001b[0;34m=\u001b[0m \u001b[0mepochs\u001b[0m\u001b[0;34m,\u001b[0m\u001b[0;34m\u001b[0m\u001b[0;34m\u001b[0m\u001b[0m\n\u001b[1;32m     13\u001b[0m                       \u001b[0mbatch_size\u001b[0m \u001b[0;34m=\u001b[0m \u001b[0mbatch_size\u001b[0m\u001b[0;34m,\u001b[0m\u001b[0;34m\u001b[0m\u001b[0;34m\u001b[0m\u001b[0m\n\u001b[0;32m---> 14\u001b[0;31m                       verbose = 1)#, \n\u001b[0m\u001b[1;32m     15\u001b[0m                       \u001b[0;31m#callbacks = [es])\u001b[0m\u001b[0;34m\u001b[0m\u001b[0;34m\u001b[0m\u001b[0;34m\u001b[0m\u001b[0m\n",
            "\u001b[0;32m/tensorflow-2.1.0/python3.6/tensorflow_core/python/keras/engine/training.py\u001b[0m in \u001b[0;36mfit\u001b[0;34m(self, x, y, batch_size, epochs, verbose, callbacks, validation_split, validation_data, shuffle, class_weight, sample_weight, initial_epoch, steps_per_epoch, validation_steps, validation_freq, max_queue_size, workers, use_multiprocessing, **kwargs)\u001b[0m\n\u001b[1;32m    817\u001b[0m         \u001b[0mmax_queue_size\u001b[0m\u001b[0;34m=\u001b[0m\u001b[0mmax_queue_size\u001b[0m\u001b[0;34m,\u001b[0m\u001b[0;34m\u001b[0m\u001b[0;34m\u001b[0m\u001b[0m\n\u001b[1;32m    818\u001b[0m         \u001b[0mworkers\u001b[0m\u001b[0;34m=\u001b[0m\u001b[0mworkers\u001b[0m\u001b[0;34m,\u001b[0m\u001b[0;34m\u001b[0m\u001b[0;34m\u001b[0m\u001b[0m\n\u001b[0;32m--> 819\u001b[0;31m         use_multiprocessing=use_multiprocessing)\n\u001b[0m\u001b[1;32m    820\u001b[0m \u001b[0;34m\u001b[0m\u001b[0m\n\u001b[1;32m    821\u001b[0m   def evaluate(self,\n",
            "\u001b[0;32m/tensorflow-2.1.0/python3.6/tensorflow_core/python/keras/engine/training_v2.py\u001b[0m in \u001b[0;36mfit\u001b[0;34m(self, model, x, y, batch_size, epochs, verbose, callbacks, validation_split, validation_data, shuffle, class_weight, sample_weight, initial_epoch, steps_per_epoch, validation_steps, validation_freq, max_queue_size, workers, use_multiprocessing, **kwargs)\u001b[0m\n\u001b[1;32m    340\u001b[0m                 \u001b[0mmode\u001b[0m\u001b[0;34m=\u001b[0m\u001b[0mModeKeys\u001b[0m\u001b[0;34m.\u001b[0m\u001b[0mTRAIN\u001b[0m\u001b[0;34m,\u001b[0m\u001b[0;34m\u001b[0m\u001b[0;34m\u001b[0m\u001b[0m\n\u001b[1;32m    341\u001b[0m                 \u001b[0mtraining_context\u001b[0m\u001b[0;34m=\u001b[0m\u001b[0mtraining_context\u001b[0m\u001b[0;34m,\u001b[0m\u001b[0;34m\u001b[0m\u001b[0;34m\u001b[0m\u001b[0m\n\u001b[0;32m--> 342\u001b[0;31m                 total_epochs=epochs)\n\u001b[0m\u001b[1;32m    343\u001b[0m             \u001b[0mcbks\u001b[0m\u001b[0;34m.\u001b[0m\u001b[0mmake_logs\u001b[0m\u001b[0;34m(\u001b[0m\u001b[0mmodel\u001b[0m\u001b[0;34m,\u001b[0m \u001b[0mepoch_logs\u001b[0m\u001b[0;34m,\u001b[0m \u001b[0mtraining_result\u001b[0m\u001b[0;34m,\u001b[0m \u001b[0mModeKeys\u001b[0m\u001b[0;34m.\u001b[0m\u001b[0mTRAIN\u001b[0m\u001b[0;34m)\u001b[0m\u001b[0;34m\u001b[0m\u001b[0;34m\u001b[0m\u001b[0m\n\u001b[1;32m    344\u001b[0m \u001b[0;34m\u001b[0m\u001b[0m\n",
            "\u001b[0;32m/tensorflow-2.1.0/python3.6/tensorflow_core/python/keras/engine/training_v2.py\u001b[0m in \u001b[0;36mrun_one_epoch\u001b[0;34m(model, iterator, execution_function, dataset_size, batch_size, strategy, steps_per_epoch, num_samples, mode, training_context, total_epochs)\u001b[0m\n\u001b[1;32m    126\u001b[0m         step=step, mode=mode, size=current_batch_size) as batch_logs:\n\u001b[1;32m    127\u001b[0m       \u001b[0;32mtry\u001b[0m\u001b[0;34m:\u001b[0m\u001b[0;34m\u001b[0m\u001b[0;34m\u001b[0m\u001b[0m\n\u001b[0;32m--> 128\u001b[0;31m         \u001b[0mbatch_outs\u001b[0m \u001b[0;34m=\u001b[0m \u001b[0mexecution_function\u001b[0m\u001b[0;34m(\u001b[0m\u001b[0miterator\u001b[0m\u001b[0;34m)\u001b[0m\u001b[0;34m\u001b[0m\u001b[0;34m\u001b[0m\u001b[0m\n\u001b[0m\u001b[1;32m    129\u001b[0m       \u001b[0;32mexcept\u001b[0m \u001b[0;34m(\u001b[0m\u001b[0mStopIteration\u001b[0m\u001b[0;34m,\u001b[0m \u001b[0merrors\u001b[0m\u001b[0;34m.\u001b[0m\u001b[0mOutOfRangeError\u001b[0m\u001b[0;34m)\u001b[0m\u001b[0;34m:\u001b[0m\u001b[0;34m\u001b[0m\u001b[0;34m\u001b[0m\u001b[0m\n\u001b[1;32m    130\u001b[0m         \u001b[0;31m# TODO(kaftan): File bug about tf function and errors.OutOfRangeError?\u001b[0m\u001b[0;34m\u001b[0m\u001b[0;34m\u001b[0m\u001b[0;34m\u001b[0m\u001b[0m\n",
            "\u001b[0;32m/tensorflow-2.1.0/python3.6/tensorflow_core/python/keras/engine/training_v2_utils.py\u001b[0m in \u001b[0;36mexecution_function\u001b[0;34m(input_fn)\u001b[0m\n\u001b[1;32m     96\u001b[0m     \u001b[0;31m# `numpy` translates Tensors to values in Eager mode.\u001b[0m\u001b[0;34m\u001b[0m\u001b[0;34m\u001b[0m\u001b[0;34m\u001b[0m\u001b[0m\n\u001b[1;32m     97\u001b[0m     return nest.map_structure(_non_none_constant_value,\n\u001b[0;32m---> 98\u001b[0;31m                               distributed_function(input_fn))\n\u001b[0m\u001b[1;32m     99\u001b[0m \u001b[0;34m\u001b[0m\u001b[0m\n\u001b[1;32m    100\u001b[0m   \u001b[0;32mreturn\u001b[0m \u001b[0mexecution_function\u001b[0m\u001b[0;34m\u001b[0m\u001b[0;34m\u001b[0m\u001b[0m\n",
            "\u001b[0;32m/tensorflow-2.1.0/python3.6/tensorflow_core/python/eager/def_function.py\u001b[0m in \u001b[0;36m__call__\u001b[0;34m(self, *args, **kwds)\u001b[0m\n\u001b[1;32m    566\u001b[0m         \u001b[0mxla_context\u001b[0m\u001b[0;34m.\u001b[0m\u001b[0mExit\u001b[0m\u001b[0;34m(\u001b[0m\u001b[0;34m)\u001b[0m\u001b[0;34m\u001b[0m\u001b[0;34m\u001b[0m\u001b[0m\n\u001b[1;32m    567\u001b[0m     \u001b[0;32melse\u001b[0m\u001b[0;34m:\u001b[0m\u001b[0;34m\u001b[0m\u001b[0;34m\u001b[0m\u001b[0m\n\u001b[0;32m--> 568\u001b[0;31m       \u001b[0mresult\u001b[0m \u001b[0;34m=\u001b[0m \u001b[0mself\u001b[0m\u001b[0;34m.\u001b[0m\u001b[0m_call\u001b[0m\u001b[0;34m(\u001b[0m\u001b[0;34m*\u001b[0m\u001b[0margs\u001b[0m\u001b[0;34m,\u001b[0m \u001b[0;34m**\u001b[0m\u001b[0mkwds\u001b[0m\u001b[0;34m)\u001b[0m\u001b[0;34m\u001b[0m\u001b[0;34m\u001b[0m\u001b[0m\n\u001b[0m\u001b[1;32m    569\u001b[0m \u001b[0;34m\u001b[0m\u001b[0m\n\u001b[1;32m    570\u001b[0m     \u001b[0;32mif\u001b[0m \u001b[0mtracing_count\u001b[0m \u001b[0;34m==\u001b[0m \u001b[0mself\u001b[0m\u001b[0;34m.\u001b[0m\u001b[0m_get_tracing_count\u001b[0m\u001b[0;34m(\u001b[0m\u001b[0;34m)\u001b[0m\u001b[0;34m:\u001b[0m\u001b[0;34m\u001b[0m\u001b[0;34m\u001b[0m\u001b[0m\n",
            "\u001b[0;32m/tensorflow-2.1.0/python3.6/tensorflow_core/python/eager/def_function.py\u001b[0m in \u001b[0;36m_call\u001b[0;34m(self, *args, **kwds)\u001b[0m\n\u001b[1;32m    630\u001b[0m         \u001b[0;31m# Lifting succeeded, so variables are initialized and we can run the\u001b[0m\u001b[0;34m\u001b[0m\u001b[0;34m\u001b[0m\u001b[0;34m\u001b[0m\u001b[0m\n\u001b[1;32m    631\u001b[0m         \u001b[0;31m# stateless function.\u001b[0m\u001b[0;34m\u001b[0m\u001b[0;34m\u001b[0m\u001b[0;34m\u001b[0m\u001b[0m\n\u001b[0;32m--> 632\u001b[0;31m         \u001b[0;32mreturn\u001b[0m \u001b[0mself\u001b[0m\u001b[0;34m.\u001b[0m\u001b[0m_stateless_fn\u001b[0m\u001b[0;34m(\u001b[0m\u001b[0;34m*\u001b[0m\u001b[0margs\u001b[0m\u001b[0;34m,\u001b[0m \u001b[0;34m**\u001b[0m\u001b[0mkwds\u001b[0m\u001b[0;34m)\u001b[0m\u001b[0;34m\u001b[0m\u001b[0;34m\u001b[0m\u001b[0m\n\u001b[0m\u001b[1;32m    633\u001b[0m     \u001b[0;32melse\u001b[0m\u001b[0;34m:\u001b[0m\u001b[0;34m\u001b[0m\u001b[0;34m\u001b[0m\u001b[0m\n\u001b[1;32m    634\u001b[0m       \u001b[0mcanon_args\u001b[0m\u001b[0;34m,\u001b[0m \u001b[0mcanon_kwds\u001b[0m \u001b[0;34m=\u001b[0m\u001b[0;31m \u001b[0m\u001b[0;31m\\\u001b[0m\u001b[0;34m\u001b[0m\u001b[0;34m\u001b[0m\u001b[0m\n",
            "\u001b[0;32m/tensorflow-2.1.0/python3.6/tensorflow_core/python/eager/function.py\u001b[0m in \u001b[0;36m__call__\u001b[0;34m(self, *args, **kwargs)\u001b[0m\n\u001b[1;32m   2361\u001b[0m     \u001b[0;32mwith\u001b[0m \u001b[0mself\u001b[0m\u001b[0;34m.\u001b[0m\u001b[0m_lock\u001b[0m\u001b[0;34m:\u001b[0m\u001b[0;34m\u001b[0m\u001b[0;34m\u001b[0m\u001b[0m\n\u001b[1;32m   2362\u001b[0m       \u001b[0mgraph_function\u001b[0m\u001b[0;34m,\u001b[0m \u001b[0margs\u001b[0m\u001b[0;34m,\u001b[0m \u001b[0mkwargs\u001b[0m \u001b[0;34m=\u001b[0m \u001b[0mself\u001b[0m\u001b[0;34m.\u001b[0m\u001b[0m_maybe_define_function\u001b[0m\u001b[0;34m(\u001b[0m\u001b[0margs\u001b[0m\u001b[0;34m,\u001b[0m \u001b[0mkwargs\u001b[0m\u001b[0;34m)\u001b[0m\u001b[0;34m\u001b[0m\u001b[0;34m\u001b[0m\u001b[0m\n\u001b[0;32m-> 2363\u001b[0;31m     \u001b[0;32mreturn\u001b[0m \u001b[0mgraph_function\u001b[0m\u001b[0;34m.\u001b[0m\u001b[0m_filtered_call\u001b[0m\u001b[0;34m(\u001b[0m\u001b[0margs\u001b[0m\u001b[0;34m,\u001b[0m \u001b[0mkwargs\u001b[0m\u001b[0;34m)\u001b[0m  \u001b[0;31m# pylint: disable=protected-access\u001b[0m\u001b[0;34m\u001b[0m\u001b[0;34m\u001b[0m\u001b[0m\n\u001b[0m\u001b[1;32m   2364\u001b[0m \u001b[0;34m\u001b[0m\u001b[0m\n\u001b[1;32m   2365\u001b[0m   \u001b[0;34m@\u001b[0m\u001b[0mproperty\u001b[0m\u001b[0;34m\u001b[0m\u001b[0;34m\u001b[0m\u001b[0m\n",
            "\u001b[0;32m/tensorflow-2.1.0/python3.6/tensorflow_core/python/eager/function.py\u001b[0m in \u001b[0;36m_filtered_call\u001b[0;34m(self, args, kwargs)\u001b[0m\n\u001b[1;32m   1609\u001b[0m          if isinstance(t, (ops.Tensor,\n\u001b[1;32m   1610\u001b[0m                            resource_variable_ops.BaseResourceVariable))),\n\u001b[0;32m-> 1611\u001b[0;31m         self.captured_inputs)\n\u001b[0m\u001b[1;32m   1612\u001b[0m \u001b[0;34m\u001b[0m\u001b[0m\n\u001b[1;32m   1613\u001b[0m   \u001b[0;32mdef\u001b[0m \u001b[0m_call_flat\u001b[0m\u001b[0;34m(\u001b[0m\u001b[0mself\u001b[0m\u001b[0;34m,\u001b[0m \u001b[0margs\u001b[0m\u001b[0;34m,\u001b[0m \u001b[0mcaptured_inputs\u001b[0m\u001b[0;34m,\u001b[0m \u001b[0mcancellation_manager\u001b[0m\u001b[0;34m=\u001b[0m\u001b[0;32mNone\u001b[0m\u001b[0;34m)\u001b[0m\u001b[0;34m:\u001b[0m\u001b[0;34m\u001b[0m\u001b[0;34m\u001b[0m\u001b[0m\n",
            "\u001b[0;32m/tensorflow-2.1.0/python3.6/tensorflow_core/python/eager/function.py\u001b[0m in \u001b[0;36m_call_flat\u001b[0;34m(self, args, captured_inputs, cancellation_manager)\u001b[0m\n\u001b[1;32m   1690\u001b[0m       \u001b[0;31m# No tape is watching; skip to running the function.\u001b[0m\u001b[0;34m\u001b[0m\u001b[0;34m\u001b[0m\u001b[0;34m\u001b[0m\u001b[0m\n\u001b[1;32m   1691\u001b[0m       return self._build_call_outputs(self._inference_function.call(\n\u001b[0;32m-> 1692\u001b[0;31m           ctx, args, cancellation_manager=cancellation_manager))\n\u001b[0m\u001b[1;32m   1693\u001b[0m     forward_backward = self._select_forward_and_backward_functions(\n\u001b[1;32m   1694\u001b[0m         \u001b[0margs\u001b[0m\u001b[0;34m,\u001b[0m\u001b[0;34m\u001b[0m\u001b[0;34m\u001b[0m\u001b[0m\n",
            "\u001b[0;32m/tensorflow-2.1.0/python3.6/tensorflow_core/python/eager/function.py\u001b[0m in \u001b[0;36mcall\u001b[0;34m(self, ctx, args, cancellation_manager)\u001b[0m\n\u001b[1;32m    543\u001b[0m               \u001b[0minputs\u001b[0m\u001b[0;34m=\u001b[0m\u001b[0margs\u001b[0m\u001b[0;34m,\u001b[0m\u001b[0;34m\u001b[0m\u001b[0;34m\u001b[0m\u001b[0m\n\u001b[1;32m    544\u001b[0m               \u001b[0mattrs\u001b[0m\u001b[0;34m=\u001b[0m\u001b[0;34m(\u001b[0m\u001b[0;34m\"executor_type\"\u001b[0m\u001b[0;34m,\u001b[0m \u001b[0mexecutor_type\u001b[0m\u001b[0;34m,\u001b[0m \u001b[0;34m\"config_proto\"\u001b[0m\u001b[0;34m,\u001b[0m \u001b[0mconfig\u001b[0m\u001b[0;34m)\u001b[0m\u001b[0;34m,\u001b[0m\u001b[0;34m\u001b[0m\u001b[0;34m\u001b[0m\u001b[0m\n\u001b[0;32m--> 545\u001b[0;31m               ctx=ctx)\n\u001b[0m\u001b[1;32m    546\u001b[0m         \u001b[0;32melse\u001b[0m\u001b[0;34m:\u001b[0m\u001b[0;34m\u001b[0m\u001b[0;34m\u001b[0m\u001b[0m\n\u001b[1;32m    547\u001b[0m           outputs = execute.execute_with_cancellation(\n",
            "\u001b[0;32m/tensorflow-2.1.0/python3.6/tensorflow_core/python/eager/execute.py\u001b[0m in \u001b[0;36mquick_execute\u001b[0;34m(op_name, num_outputs, inputs, attrs, ctx, name)\u001b[0m\n\u001b[1;32m     65\u001b[0m     \u001b[0;32melse\u001b[0m\u001b[0;34m:\u001b[0m\u001b[0;34m\u001b[0m\u001b[0;34m\u001b[0m\u001b[0m\n\u001b[1;32m     66\u001b[0m       \u001b[0mmessage\u001b[0m \u001b[0;34m=\u001b[0m \u001b[0me\u001b[0m\u001b[0;34m.\u001b[0m\u001b[0mmessage\u001b[0m\u001b[0;34m\u001b[0m\u001b[0;34m\u001b[0m\u001b[0m\n\u001b[0;32m---> 67\u001b[0;31m     \u001b[0msix\u001b[0m\u001b[0;34m.\u001b[0m\u001b[0mraise_from\u001b[0m\u001b[0;34m(\u001b[0m\u001b[0mcore\u001b[0m\u001b[0;34m.\u001b[0m\u001b[0m_status_to_exception\u001b[0m\u001b[0;34m(\u001b[0m\u001b[0me\u001b[0m\u001b[0;34m.\u001b[0m\u001b[0mcode\u001b[0m\u001b[0;34m,\u001b[0m \u001b[0mmessage\u001b[0m\u001b[0;34m)\u001b[0m\u001b[0;34m,\u001b[0m \u001b[0;32mNone\u001b[0m\u001b[0;34m)\u001b[0m\u001b[0;34m\u001b[0m\u001b[0;34m\u001b[0m\u001b[0m\n\u001b[0m\u001b[1;32m     68\u001b[0m   \u001b[0;32mexcept\u001b[0m \u001b[0mTypeError\u001b[0m \u001b[0;32mas\u001b[0m \u001b[0me\u001b[0m\u001b[0;34m:\u001b[0m\u001b[0;34m\u001b[0m\u001b[0;34m\u001b[0m\u001b[0m\n\u001b[1;32m     69\u001b[0m     keras_symbolic_tensors = [\n",
            "\u001b[0;32m/usr/local/lib/python3.6/dist-packages/six.py\u001b[0m in \u001b[0;36mraise_from\u001b[0;34m(value, from_value)\u001b[0m\n",
            "\u001b[0;31mInternalError\u001b[0m:  dnn PoolForward launch failed\n\t [[node sequential/time_distributed_2/max_pooling2d/MaxPool (defined at <ipython-input-38-4a5ec116a453>:14) ]] [Op:__inference_distributed_function_3565]\n\nFunction call stack:\ndistributed_function\n"
          ]
        }
      ]
    },
    {
      "cell_type": "code",
      "metadata": {
        "id": "3UOUSJEp4dpH",
        "colab_type": "code",
        "colab": {}
      },
      "source": [
        "#save model\n",
        "\n",
        "saveModel = 0\n",
        "glacierStations = 0\n",
        "\n",
        "if saveModel == 1:\n",
        "\n",
        "  if glacierStations == 1:\n",
        "    modelName = str(num_stations) + '_stations_' + 'CNN_LSTM_DENSE_glacierStations_' + str(epochs) + '_epochs'\n",
        "    model.save(modelName + '.h5')\n",
        "  else:\n",
        "    modelName = str(num_stations) + '_stations_' + 'CNN_LSTM_DENSE_' + str(epochs) + '_epochs'\n",
        "    model.save(modelName + '.h5')"
      ],
      "execution_count": 0,
      "outputs": []
    },
    {
      "cell_type": "code",
      "metadata": {
        "id": "ZNOqXrAY4dpI",
        "colab_type": "code",
        "colab": {}
      },
      "source": [
        "#load model\n",
        "\n",
        "loadModel = 0\n",
        "\n",
        "if loadModel == 1:\n",
        "\n",
        "  dataPath = '/content/drive/My Drive/Colab Notebooks/cnn_lstm_era/'\n",
        "\n",
        "  if glacierStations == 1:\n",
        "    modelName = str(num_stations) + '_stations_' + 'CNN_LSTM_DENSE_glacierStations_' + str(epochs) + '_epochs'\n",
        "    model = load_model(dataPath + modelName + '.h5')\n",
        "  else:\n",
        "    modelName = str(num_stations) + '_stations_' + 'CNN_LSTM_DENSE_' + str(epochs) + '_epochs'\n",
        "    model = load_model(dataPath + modelName + '.h5')\n",
        "\n",
        "  #model = load_model(dataPath + str(num_stations) + '_stations_LSTM_DO_LSTM_DENSE.h5')"
      ],
      "execution_count": 0,
      "outputs": []
    },
    {
      "cell_type": "code",
      "metadata": {
        "id": "lgQDet9b4dpK",
        "colab_type": "code",
        "colab": {}
      },
      "source": [
        "model_bulk = keras.models.clone_model(model)"
      ],
      "execution_count": 0,
      "outputs": []
    },
    {
      "cell_type": "code",
      "metadata": {
        "id": "zklAZ3NC4dpM",
        "colab_type": "code",
        "colab": {}
      },
      "source": [
        "#plot loss\n",
        "\n",
        "saveIt = 0\n",
        "\n",
        "if trainModel:\n",
        "\n",
        "  loss = history.history['loss']\n",
        "  val_loss = history.history['val_loss']\n",
        "  epochs = range(1, len(loss) + 1)\n",
        "\n",
        "  plt.plot(loss, 'y', label='Training')\n",
        "  plt.plot(val_loss, 'r', label='Validation')\n",
        "  plt.title('Training and Validation Loss')\n",
        "  plt.xlabel('Epochs')\n",
        "  plt.ylabel('Loss')\n",
        "  plt.legend()\n",
        "  #plt.xlim((1,10))\n",
        "  #plt.ylim((0,.1))\n",
        "  #plt.show()\n",
        "\n",
        "  if saveIt:\n",
        "    plt.savefig('loss.png')"
      ],
      "execution_count": 0,
      "outputs": []
    },
    {
      "cell_type": "code",
      "metadata": {
        "id": "z0T36HhS4dpO",
        "colab_type": "code",
        "colab": {}
      },
      "source": [
        "#predict streamflow with trained model\n",
        "\n",
        "y_testPredict = model.predict(x_test, batch_size = 8192, verbose = 1)\n",
        "y_predict = model.predict(x, batch_size=8192, verbose = 1)"
      ],
      "execution_count": 0,
      "outputs": []
    },
    {
      "cell_type": "code",
      "metadata": {
        "id": "btac4-si4dpQ",
        "colab_type": "code",
        "colab": {}
      },
      "source": [
        "#compute NSE\n",
        "\n",
        "obs_per_station_test = int(len(y_test)/num_stations)\n",
        "window = 366\n",
        "NSE = nse(y_test,y_testPredict)\n",
        "NSE_rolling = nse_rolling(y_test, y_testPredict, window, stride = 365)\n",
        "NSE_station = [nse(y_test[kk*obs_per_station_test:(kk+1)*obs_per_station_test], y_testPredict[kk*obs_per_station_test:(kk+1)*obs_per_station_test]) for kk in range(num_stations)]\n",
        "\n",
        "print('Overall NSE = ' + str(NSE)[:4])\n",
        "print('Mean Station NSE = ' + str(np.mean(NSE_station))[:4])\n",
        "print('Median Station NSE = ' + str(np.median(NSE_station))[:4])"
      ],
      "execution_count": 0,
      "outputs": []
    },
    {
      "cell_type": "code",
      "metadata": {
        "id": "knYJHosV4dpS",
        "colab_type": "code",
        "colab": {}
      },
      "source": [
        "#visualize stations' performance\n",
        "\n",
        "sns.set(color_codes=True)\n",
        "sns.distplot(NSE_station, bins = 5)\n",
        "plt.show()"
      ],
      "execution_count": 0,
      "outputs": []
    },
    {
      "cell_type": "code",
      "metadata": {
        "id": "qOXdi23O4dpT",
        "colab_type": "code",
        "colab": {}
      },
      "source": [
        "#plot model vs observed scatter plot\n",
        "\n",
        "saveIt = 0\n",
        "\n",
        "plt.figure(figsize = (8,8))\n",
        "\n",
        "plt.scatter(y_test, y_testPredict, alpha = 0.1)\n",
        "plt.xlabel('observation')\n",
        "plt.ylabel('model')\n",
        "plt.title('Model Results: NSE = ' + str(NSE)[:4])\n",
        "#plt.xlim((-2,5))\n",
        "#plt.xlim((0,4))\n",
        "#plt.yscale('log')\n",
        "#plt.xscale('log')\n",
        "\n",
        "if saveIt:\n",
        "  plt.savefig('obs_vs_model.png')"
      ],
      "execution_count": 0,
      "outputs": []
    },
    {
      "cell_type": "code",
      "metadata": {
        "id": "l_pB6NlP4dpV",
        "colab_type": "code",
        "colab": {}
      },
      "source": [
        "#plot time series of model and observations \n",
        "\n",
        "saveIt = 0\n",
        "\n",
        "plt.figure(figsize = (12,8))\n",
        "plt.subplot(2,1,1)\n",
        "plt.plot(y_test, label = 'Observed')\n",
        "plt.plot(y_testPredict, label = 'Modelled')\n",
        "plt.legend()\n",
        "plt.xlabel('Day')\n",
        "plt.ylabel('Normalized Streamflow')\n",
        "plt.title('Model Results: NSE = ' + str(NSE)[:4])\n",
        "plt.xlim((0,len(y_test)))\n",
        "plt.xlim((4*365*4,4*365*5))\n",
        "plt.ylim((0,3))\n",
        "\n",
        "plt.subplot(2,1,2)\n",
        "#plt.plot(range(int(window/2),len(y_test)-int(window/2)),NSE_rolling)\n",
        "plt.scatter(range(len(NSE_rolling)),NSE_rolling)\n",
        "plt.ylim((0,1))\n",
        "plt.xlim((0,len(NSE_rolling)))\n",
        "plt.xlim((15.5,19.5))\n",
        "plt.xlabel('Day')\n",
        "plt.ylabel('NSE')\n",
        "plt.title('Rolling NSE: Window = ' + str(window) + ' Days')\n",
        "\n",
        "plt.tight_layout()\n",
        "\n",
        "if saveIt:\n",
        "  plt.savefig('modelled_time_series.png')\n",
        "\n",
        "plt.show()"
      ],
      "execution_count": 0,
      "outputs": []
    },
    {
      "cell_type": "code",
      "metadata": {
        "id": "zTYMSMY64dpX",
        "colab_type": "code",
        "colab": {}
      },
      "source": [
        ""
      ],
      "execution_count": 0,
      "outputs": []
    },
    {
      "cell_type": "code",
      "metadata": {
        "id": "bZ2Ro7wC4dpZ",
        "colab_type": "code",
        "colab": {}
      },
      "source": [
        ""
      ],
      "execution_count": 0,
      "outputs": []
    },
    {
      "cell_type": "code",
      "metadata": {
        "id": "P-TpJDvF4dpe",
        "colab_type": "code",
        "colab": {}
      },
      "source": [
        ""
      ],
      "execution_count": 0,
      "outputs": []
    }
  ]
}