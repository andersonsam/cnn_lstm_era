{
 "cells": [
  {
   "cell_type": "code",
   "execution_count": 1,
   "metadata": {
    "colab": {
     "base_uri": "https://localhost:8080/",
     "height": 700
    },
    "colab_type": "code",
    "executionInfo": {
     "elapsed": 14006,
     "status": "ok",
     "timestamp": 1565220643458,
     "user": {
      "displayName": "",
      "photoUrl": "",
      "userId": ""
     },
     "user_tz": 420
    },
    "id": "aOhZRpq_LZzs",
    "outputId": "c7df4200-b8d7-4aac-9fbd-ccb0ab8cd0c3"
   },
   "outputs": [
    {
     "name": "stdout",
     "output_type": "stream",
     "text": [
      "Collecting geopandas\n",
      "\u001b[?25l  Downloading https://files.pythonhosted.org/packages/21/80/da2a33c9201cd4ce693f4aa6189efc9ef1a48bec1c3b02c3ce9908b07fec/geopandas-0.5.1-py2.py3-none-any.whl (893kB)\n",
      "\u001b[K     |████████████████████████████████| 901kB 9.6MB/s \n",
      "\u001b[?25hCollecting fiona (from geopandas)\n",
      "\u001b[?25l  Downloading https://files.pythonhosted.org/packages/89/4a/193cd6a75e51062c85f4e1cd6f312b3bbda6e26ba7510f152ef5016f0b16/Fiona-1.8.6-cp36-cp36m-manylinux1_x86_64.whl (17.9MB)\n",
      "\u001b[K     |████████████████████████████████| 17.9MB 42.3MB/s \n",
      "\u001b[?25hCollecting pyproj (from geopandas)\n",
      "\u001b[?25l  Downloading https://files.pythonhosted.org/packages/16/59/43869adef45ce4f1cf7d5c3aef1ea5d65d449050abdda5de7a2465c5729d/pyproj-2.2.1-cp36-cp36m-manylinux1_x86_64.whl (11.2MB)\n",
      "\u001b[K     |████████████████████████████████| 11.2MB 39.7MB/s \n",
      "\u001b[?25hRequirement already satisfied: pandas in /usr/local/lib/python3.6/dist-packages (from geopandas) (0.24.2)\n",
      "Requirement already satisfied: shapely in /usr/local/lib/python3.6/dist-packages (from geopandas) (1.6.4.post2)\n",
      "Collecting click-plugins>=1.0 (from fiona->geopandas)\n",
      "  Downloading https://files.pythonhosted.org/packages/e9/da/824b92d9942f4e472702488857914bdd50f73021efea15b4cad9aca8ecef/click_plugins-1.1.1-py2.py3-none-any.whl\n",
      "Requirement already satisfied: attrs>=17 in /usr/local/lib/python3.6/dist-packages (from fiona->geopandas) (19.1.0)\n",
      "Collecting cligj>=0.5 (from fiona->geopandas)\n",
      "  Downloading https://files.pythonhosted.org/packages/e4/be/30a58b4b0733850280d01f8bd132591b4668ed5c7046761098d665ac2174/cligj-0.5.0-py3-none-any.whl\n",
      "Collecting munch (from fiona->geopandas)\n",
      "  Downloading https://files.pythonhosted.org/packages/68/f4/260ec98ea840757a0da09e0ed8135333d59b8dfebe9752a365b04857660a/munch-2.3.2.tar.gz\n",
      "Requirement already satisfied: six>=1.7 in /usr/local/lib/python3.6/dist-packages (from fiona->geopandas) (1.12.0)\n",
      "Requirement already satisfied: click<8,>=4.0 in /usr/local/lib/python3.6/dist-packages (from fiona->geopandas) (7.0)\n",
      "Requirement already satisfied: numpy>=1.12.0 in /usr/local/lib/python3.6/dist-packages (from pandas->geopandas) (1.16.4)\n",
      "Requirement already satisfied: pytz>=2011k in /usr/local/lib/python3.6/dist-packages (from pandas->geopandas) (2018.9)\n",
      "Requirement already satisfied: python-dateutil>=2.5.0 in /usr/local/lib/python3.6/dist-packages (from pandas->geopandas) (2.5.3)\n",
      "Building wheels for collected packages: munch\n",
      "  Building wheel for munch (setup.py) ... \u001b[?25l\u001b[?25hdone\n",
      "  Created wheel for munch: filename=munch-2.3.2-py2.py3-none-any.whl size=6613 sha256=1add48b354cb1ce642e85b67711202a9133bce7e4718627bf662b3b191866442\n",
      "  Stored in directory: /root/.cache/pip/wheels/db/bf/bc/06a3e1bfe0ab27d2e720ceb3cff3159398d92644c0cec2c125\n",
      "Successfully built munch\n",
      "Installing collected packages: click-plugins, cligj, munch, fiona, pyproj, geopandas\n",
      "Successfully installed click-plugins-1.1.1 cligj-0.5.0 fiona-1.8.6 geopandas-0.5.1 munch-2.3.2 pyproj-2.2.1\n",
      "Collecting netCDF4\n",
      "\u001b[?25l  Downloading https://files.pythonhosted.org/packages/48/94/eacbf790ceb237bee5db9c54e7c225ff0898d6dd496166a21d7c57254eb5/netCDF4-1.5.1.2-cp36-cp36m-manylinux1_x86_64.whl (4.1MB)\n",
      "\u001b[K     |████████████████████████████████| 4.1MB 9.6MB/s \n",
      "\u001b[?25hRequirement already satisfied: numpy>=1.7 in /usr/local/lib/python3.6/dist-packages (from netCDF4) (1.16.4)\n",
      "Collecting cftime (from netCDF4)\n",
      "\u001b[?25l  Downloading https://files.pythonhosted.org/packages/70/64/8ceadda42af3c1b27ee77005807e38c6d77baef28a8f9216b60577fddd71/cftime-1.0.3.4-cp36-cp36m-manylinux1_x86_64.whl (305kB)\n",
      "\u001b[K     |████████████████████████████████| 307kB 60.1MB/s \n",
      "\u001b[?25hInstalling collected packages: cftime, netCDF4\n",
      "Successfully installed cftime-1.0.3.4 netCDF4-1.5.1.2\n"
     ]
    }
   ],
   "source": [
    "#download required dependencies \n",
    "!pip install geopandas\n",
    "!pip install netCDF4"
   ]
  },
  {
   "cell_type": "code",
   "execution_count": 2,
   "metadata": {
    "colab": {
     "base_uri": "https://localhost:8080/",
     "height": 122
    },
    "colab_type": "code",
    "executionInfo": {
     "elapsed": 25373,
     "status": "ok",
     "timestamp": 1565220671481,
     "user": {
      "displayName": "",
      "photoUrl": "",
      "userId": ""
     },
     "user_tz": 420
    },
    "id": "IgBl6yb1UH06",
    "outputId": "5bcf5d3b-308b-4108-d9aa-9f49e2cec85b"
   },
   "outputs": [
    {
     "name": "stdout",
     "output_type": "stream",
     "text": [
      "Go to this URL in a browser: https://accounts.google.com/o/oauth2/auth?client_id=947318989803-6bn6qk8qdgf4n4g3pfee6491hc0brc4i.apps.googleusercontent.com&redirect_uri=urn%3Aietf%3Awg%3Aoauth%3A2.0%3Aoob&scope=email%20https%3A%2F%2Fwww.googleapis.com%2Fauth%2Fdocs.test%20https%3A%2F%2Fwww.googleapis.com%2Fauth%2Fdrive%20https%3A%2F%2Fwww.googleapis.com%2Fauth%2Fdrive.photos.readonly%20https%3A%2F%2Fwww.googleapis.com%2Fauth%2Fpeopleapi.readonly&response_type=code\n",
      "\n",
      "Enter your authorization code:\n",
      "··········\n",
      "Mounted at /content/drive\n"
     ]
    }
   ],
   "source": [
    "#mount drive\n",
    "from google.colab import drive\n",
    "drive.mount('/content/drive')"
   ]
  },
  {
   "cell_type": "code",
   "execution_count": null,
   "metadata": {
    "colab": {},
    "colab_type": "code",
    "id": "v41YJZT9Ga8m"
   },
   "outputs": [],
   "source": [
    "#load in functions required and dependencies to use them\n",
    "%run all_functions.ipynb"
   ]
  },
  {
   "cell_type": "code",
   "execution_count": null,
   "metadata": {
    "colab": {},
    "colab_type": "code",
    "id": "V3EUspTTGa8s"
   },
   "outputs": [],
   "source": [
    "#get flow + met data\n",
    "flowDict = get_ProvinceDailyStreamflow(colab=1)\n",
    "precDict = get_ProvinceDailyPrec('AB',colab=1)\n",
    "tempDict = get_ProvinceDailyTemp('AB',colab=1)"
   ]
  },
  {
   "cell_type": "code",
   "execution_count": null,
   "metadata": {
    "colab": {},
    "colab_type": "code",
    "id": "je2Z5lksGa8v"
   },
   "outputs": [],
   "source": [
    "#unpack data\n",
    "\n",
    "stationLat = flowDict['stationLat']\n",
    "stationLon = flowDict['stationLon']\n",
    "eraLat = tempDict['latERA']\n",
    "eraLon = tempDict['lonERA']\n",
    "\n",
    "flowDays = flowDict['windowDays']\n",
    "flowMonths = flowDict['windowMonths']\n",
    "flowYears = flowDict['windowYears']\n",
    "eraDays = tempDict['daysERA']\n",
    "eraMonths = tempDict['monthsERA']\n",
    "eraYears = tempDict['yearsERA']\n",
    "\n",
    "F = flowDict['all_flowwindow_norm_NF'] #normalized discharge with nans filled (NF)\n",
    "T = tempDict['T']\n",
    "P = precDict['P']"
   ]
  },
  {
   "cell_type": "code",
   "execution_count": null,
   "metadata": {
    "colab": {},
    "colab_type": "code",
    "id": "fs4RbW38Ga8y"
   },
   "outputs": [],
   "source": [
    "#clip to make data have same time range\n",
    "startYear = max(int(np.min(eraYears)),int(np.min(flowYears)))\n",
    "\n",
    "indStartERA = min(np.argwhere(eraYears==startYear))[0]\n",
    "indStartFlow = min(np.argwhere(flowYears==startYear))[0]\n",
    "\n",
    "F = F[indStartFlow:]\n",
    "T = T[indStartERA:]\n",
    "P = P[indStartERA:]\n",
    "\n",
    "flowDays = flowDays[indStartFlow:]\n",
    "flowMonths = flowMonths[indStartFlow:]\n",
    "flowYears = flowYears[indStartFlow:]\n",
    "\n",
    "eraDays = eraDays[indStartERA:]\n",
    "eraMonths = eraMonths[indStartERA:]\n",
    "eraYears = eraYears[indStartERA:]"
   ]
  },
  {
   "cell_type": "code",
   "execution_count": null,
   "metadata": {
    "colab": {},
    "colab_type": "code",
    "id": "1kOezwWnGa80"
   },
   "outputs": [],
   "source": [
    "#prep data: make training and testing sets\n",
    "\n",
    "#indices of testing/training\n",
    "trainStartYear = 1987\n",
    "trainFinYear = 2000\n",
    "testStartYear = 2001\n",
    "testFinYear = 2010\n",
    "\n",
    "trainInds = np.squeeze(np.argwhere((flowYears>=trainStartYear) & (flowYears<=trainFinYear)))\n",
    "testInds = np.squeeze(np.argwhere((flowYears>=testStartYear) & (flowYears<=testFinYear)))\n",
    "\n",
    "#standardize variables individually (normalize wrt training period), then save as 32-bit rather than 64-bit for space\n",
    "Tmean_train = np.mean([T[trainInds[ii]] for ii in range(len(trainInds))])\n",
    "Tstd_train = np.std([T[trainInds[ii]] for ii in range(len(trainInds))])\n",
    "Tnorm = (T - Tmean_train)/Tstd_train\n",
    "Tnorm = np.single(Tnorm)\n",
    "\n",
    "Pmean_train = np.mean([P[trainInds[ii]] for ii in range(len(trainInds))])\n",
    "Pstd_train = np.std([P[trainInds[ii]] for ii in range(len(trainInds))])\n",
    "Pnorm = (P - Pmean_train)/Pstd_train\n",
    "Pnorm = np.single(Pnorm)\n",
    "\n",
    "Fmean_train = np.nanmean([F[ii][trainInds[366:]] for ii in range(len(F))])\n",
    "Fstd_train = np.nanstd([F[ii][trainInds[366:]] for ii in range(len(F))])\n",
    "Fnorm = (F - Fmean_train)/Fstd_train\n",
    "Fnorm = np.single(Fnorm)\n",
    "\n",
    "#target data\n",
    "y_train = np.squeeze([Fnorm[ii][366:len(trainInds)+366] for ii in range(len(F))])\n",
    "y_test = np.squeeze([Fnorm[ii][testInds[1:]] for ii in range(len(F))])\n",
    "\n",
    "#first, make (n_time x n_lon x n_lat x n_vars) tensor \n",
    "#x_intermediate = np.zeros((8766,17,43,2))\n",
    "x_intermediate = np.empty((8766,17,43,2),dtype='single')\n",
    "x_intermediate[:,:,:,0] = Tnorm\n",
    "x_intermediate[:,:,:,1] = Pnorm\n",
    "x_train_intermediate = x_intermediate[trainInds]\n",
    "x_test_intermediate = x_intermediate[testInds]\n"
   ]
  },
  {
   "cell_type": "code",
   "execution_count": null,
   "metadata": {},
   "outputs": [],
   "source": [
    "[np.shape(x_test), np.shape(y_test), np.shape(x_train), np.shape(y_train)]"
   ]
  },
  {
   "cell_type": "code",
   "execution_count": null,
   "metadata": {
    "colab": {},
    "colab_type": "code",
    "id": "d43LmpUmGa83"
   },
   "outputs": [],
   "source": [
    "#now, convert x_intermediate into (n_time x 365 x n_lon x n_lat x n_vars) tensor\n",
    "x = np.empty((8766-365,365,17,43,2),dtype='single')\n",
    "x_train = np.empty((len(trainInds),365,17,43,2),dtype='single')\n",
    "x_test = np.empty((len(testInds)-1,365,17,43,2),dtype='single')"
   ]
  },
  {
   "cell_type": "code",
   "execution_count": null,
   "metadata": {
    "colab": {},
    "colab_type": "code",
    "id": "JEECQyReGa86"
   },
   "outputs": [],
   "source": [
    "for ii in range(1000):\n",
    "    x_train[ii] = x_intermediate[ii:ii+365]"
   ]
  },
  {
   "cell_type": "code",
   "execution_count": 30,
   "metadata": {
    "colab": {
     "base_uri": "https://localhost:8080/",
     "height": 34
    },
    "colab_type": "code",
    "executionInfo": {
     "elapsed": 972,
     "status": "ok",
     "timestamp": 1565221242897,
     "user": {
      "displayName": "",
      "photoUrl": "",
      "userId": ""
     },
     "user_tz": 420
    },
    "id": "vC7SsmlDGa89",
    "outputId": "8c7a9dc7-128d-4416-fd15-e1e18d20340b"
   },
   "outputs": [
    {
     "data": {
      "text/plain": [
       "[1826, 1461, 364, 1825]"
      ]
     },
     "execution_count": 30,
     "metadata": {
      "tags": []
     },
     "output_type": "execute_result"
    }
   ],
   "source": [
    "for ii in range(1000,2000):\n",
    "    x_train[ii] = x_intermediate[ii:ii+365]"
   ]
  },
  {
   "cell_type": "code",
   "execution_count": null,
   "metadata": {},
   "outputs": [],
   "source": [
    "for ii in range(2000,3000):\n",
    "    x_train[ii] = x_intermediate[ii:ii+365]"
   ]
  },
  {
   "cell_type": "code",
   "execution_count": null,
   "metadata": {},
   "outputs": [],
   "source": [
    "for ii in range(3000,4000):\n",
    "    x_train[ii] = x_intermediate[ii:ii+365]"
   ]
  },
  {
   "cell_type": "code",
   "execution_count": null,
   "metadata": {},
   "outputs": [],
   "source": [
    "for ii in range(4000,len(trainInds)):\n",
    "    x_train[ii] = x_intermediate[ii:ii+365]"
   ]
  },
  {
   "cell_type": "code",
   "execution_count": null,
   "metadata": {},
   "outputs": [],
   "source": [
    "for ii in range(1000):\n",
    "    x_test[ii] = x_intermediate[ii+len(trainInds)-365:ii+len(trainInds)]"
   ]
  },
  {
   "cell_type": "code",
   "execution_count": null,
   "metadata": {},
   "outputs": [],
   "source": [
    "for ii in range(1000,2000):\n",
    "    x_test[ii] = x_intermediate[ii+len(trainInds)-365:ii+len(trainInds)]"
   ]
  },
  {
   "cell_type": "code",
   "execution_count": null,
   "metadata": {},
   "outputs": [],
   "source": [
    "for ii in range(2000,len(testInds)-1):\n",
    "    x_test[ii] = x_intermediate[ii+len(trainInds)-365:ii+len(trainInds)]"
   ]
  },
  {
   "cell_type": "code",
   "execution_count": null,
   "metadata": {},
   "outputs": [],
   "source": [
    "saveTrainVars=0\n",
    "if saveTrainVars:\n",
    "    np.savez(\"T_P_train_1987_2000_era_interim\", x_train)\n",
    "    #np.savez_compressed(\"T_P_train_1987_2000_era_interim_compressed\", x_train)\n",
    "    \n",
    "saveTestVars=0\n",
    "if saveTestVars:\n",
    "    np.savez(\"T_P_test_1987_2000_era_interim\", x_test)\n",
    "    #np.savez_compressed(\"T_P_test_1987_2000_era_interim_compressed\", x_test)"
   ]
  },
  {
   "cell_type": "code",
   "execution_count": 33,
   "metadata": {
    "colab": {
     "base_uri": "https://localhost:8080/",
     "height": 275
    },
    "colab_type": "code",
    "executionInfo": {
     "elapsed": 2893,
     "status": "ok",
     "timestamp": 1565221307851,
     "user": {
      "displayName": "",
      "photoUrl": "",
      "userId": ""
     },
     "user_tz": 420
    },
    "id": "qLLvg7nHGa9Q",
    "outputId": "76d94c5f-bb7c-4622-b7f8-192997f135f6"
   },
   "outputs": [
    {
     "name": "stderr",
     "output_type": "stream",
     "text": [
      "Using TensorFlow backend.\n",
      "WARNING: Logging before flag parsing goes to stderr.\n",
      "W0807 23:41:46.893978 140006467065728 deprecation_wrapper.py:119] From /usr/local/lib/python3.6/dist-packages/keras/backend/tensorflow_backend.py:74: The name tf.get_default_graph is deprecated. Please use tf.compat.v1.get_default_graph instead.\n",
      "\n",
      "W0807 23:41:46.930340 140006467065728 deprecation_wrapper.py:119] From /usr/local/lib/python3.6/dist-packages/keras/backend/tensorflow_backend.py:517: The name tf.placeholder is deprecated. Please use tf.compat.v1.placeholder instead.\n",
      "\n",
      "W0807 23:41:46.937351 140006467065728 deprecation_wrapper.py:119] From /usr/local/lib/python3.6/dist-packages/keras/backend/tensorflow_backend.py:4138: The name tf.random_uniform is deprecated. Please use tf.random.uniform instead.\n",
      "\n",
      "W0807 23:41:46.972561 140006467065728 deprecation_wrapper.py:119] From /usr/local/lib/python3.6/dist-packages/keras/backend/tensorflow_backend.py:3976: The name tf.nn.max_pool is deprecated. Please use tf.nn.max_pool2d instead.\n",
      "\n"
     ]
    },
    {
     "name": "stdout",
     "output_type": "stream",
     "text": [
      "Building model...\n"
     ]
    },
    {
     "name": "stderr",
     "output_type": "stream",
     "text": [
      "W0807 23:41:47.212259 140006467065728 deprecation_wrapper.py:119] From /usr/local/lib/python3.6/dist-packages/keras/optimizers.py:790: The name tf.train.Optimizer is deprecated. Please use tf.compat.v1.train.Optimizer instead.\n",
      "\n"
     ]
    },
    {
     "name": "stdout",
     "output_type": "stream",
     "text": [
      "Compiling model...\n"
     ]
    }
   ],
   "source": [
    "import keras\n",
    "from keras import Model, Sequential\n",
    "from keras.preprocessing.image import ImageDataGenerator\n",
    "from keras.layers import Conv2D, MaxPooling2D, Flatten, TimeDistributed, LSTM, Dense\n",
    "\n",
    "#CNN model\n",
    "print('Building model...')\n",
    "model = Sequential()\n",
    "model.add(TimeDistributed(\n",
    "    Conv2D(filters = 8, kernel_size = (3,3), activation='relu',data_format='channels_last'), \n",
    "    input_shape=(365,17,43,2)))\n",
    "model.add(TimeDistributed(MaxPooling2D(pool_size = 2)))\n",
    "model.add(TimeDistributed(Flatten()))\n",
    "\n",
    "#LSTM model with time-distributed CNN as input\n",
    "model.add(LSTM(units = 20, activation='tanh', recurrent_activation='hard_sigmoid', \n",
    "               use_bias=True, kernel_initializer='glorot_uniform', recurrent_initializer='orthogonal', \n",
    "               bias_initializer='zeros', unit_forget_bias=True, kernel_regularizer=None, \n",
    "               recurrent_regularizer=None, bias_regularizer=None, activity_regularizer=None, \n",
    "               kernel_constraint=None, recurrent_constraint=None, bias_constraint=None, implementation=1, \n",
    "               return_sequences=False, return_state=False))\n",
    "model.add(Dense(194, activation = 'tanh'))\n",
    "\n",
    "#compile\n",
    "print('Compiling model...')\n",
    "model.compile(loss=keras.losses.MSE,\n",
    "              optimizer=keras.optimizers.Adam(lr=0.01),\n",
    "              metrics=['mae'])"
   ]
  },
  {
   "cell_type": "code",
   "execution_count": null,
   "metadata": {},
   "outputs": [],
   "source": [
    "model.summary()"
   ]
  },
  {
   "cell_type": "code",
   "execution_count": 34,
   "metadata": {
    "colab": {
     "base_uri": "https://localhost:8080/",
     "height": 361
    },
    "colab_type": "code",
    "executionInfo": {
     "elapsed": 924,
     "status": "error",
     "timestamp": 1565221314552,
     "user": {
      "displayName": "",
      "photoUrl": "",
      "userId": ""
     },
     "user_tz": 420
    },
    "id": "Tlwf7WEZGa9U",
    "outputId": "598d3bc4-d592-4101-df54-b647488f9507"
   },
   "outputs": [
    {
     "ename": "ValueError",
     "evalue": "ignored",
     "output_type": "error",
     "traceback": [
      "\u001b[0;31m---------------------------------------------------------------------------\u001b[0m",
      "\u001b[0;31mValueError\u001b[0m                                Traceback (most recent call last)",
      "\u001b[0;32m<ipython-input-34-b3cd500cafaf>\u001b[0m in \u001b[0;36m<module>\u001b[0;34m()\u001b[0m\n\u001b[1;32m      5\u001b[0m           \u001b[0mepochs\u001b[0m\u001b[0;34m=\u001b[0m\u001b[0mepochs\u001b[0m\u001b[0;34m,\u001b[0m\u001b[0;34m\u001b[0m\u001b[0;34m\u001b[0m\u001b[0m\n\u001b[1;32m      6\u001b[0m           \u001b[0mverbose\u001b[0m\u001b[0;34m=\u001b[0m\u001b[0;36m1\u001b[0m\u001b[0;34m,\u001b[0m\u001b[0;34m\u001b[0m\u001b[0;34m\u001b[0m\u001b[0m\n\u001b[0;32m----> 7\u001b[0;31m           validation_data=(x_test, y_test))\n\u001b[0m",
      "\u001b[0;32m/usr/local/lib/python3.6/dist-packages/keras/engine/training.py\u001b[0m in \u001b[0;36mfit\u001b[0;34m(self, x, y, batch_size, epochs, verbose, callbacks, validation_split, validation_data, shuffle, class_weight, sample_weight, initial_epoch, steps_per_epoch, validation_steps, **kwargs)\u001b[0m\n\u001b[1;32m    950\u001b[0m             \u001b[0msample_weight\u001b[0m\u001b[0;34m=\u001b[0m\u001b[0msample_weight\u001b[0m\u001b[0;34m,\u001b[0m\u001b[0;34m\u001b[0m\u001b[0;34m\u001b[0m\u001b[0m\n\u001b[1;32m    951\u001b[0m             \u001b[0mclass_weight\u001b[0m\u001b[0;34m=\u001b[0m\u001b[0mclass_weight\u001b[0m\u001b[0;34m,\u001b[0m\u001b[0;34m\u001b[0m\u001b[0;34m\u001b[0m\u001b[0m\n\u001b[0;32m--> 952\u001b[0;31m             batch_size=batch_size)\n\u001b[0m\u001b[1;32m    953\u001b[0m         \u001b[0;31m# Prepare validation data.\u001b[0m\u001b[0;34m\u001b[0m\u001b[0;34m\u001b[0m\u001b[0;34m\u001b[0m\u001b[0m\n\u001b[1;32m    954\u001b[0m         \u001b[0mdo_validation\u001b[0m \u001b[0;34m=\u001b[0m \u001b[0;32mFalse\u001b[0m\u001b[0;34m\u001b[0m\u001b[0;34m\u001b[0m\u001b[0m\n",
      "\u001b[0;32m/usr/local/lib/python3.6/dist-packages/keras/engine/training.py\u001b[0m in \u001b[0;36m_standardize_user_data\u001b[0;34m(self, x, y, sample_weight, class_weight, check_array_lengths, batch_size)\u001b[0m\n\u001b[1;32m    787\u001b[0m                 \u001b[0mfeed_output_shapes\u001b[0m\u001b[0;34m,\u001b[0m\u001b[0;34m\u001b[0m\u001b[0;34m\u001b[0m\u001b[0m\n\u001b[1;32m    788\u001b[0m                 \u001b[0mcheck_batch_axis\u001b[0m\u001b[0;34m=\u001b[0m\u001b[0;32mFalse\u001b[0m\u001b[0;34m,\u001b[0m  \u001b[0;31m# Don't enforce the batch size.\u001b[0m\u001b[0;34m\u001b[0m\u001b[0;34m\u001b[0m\u001b[0m\n\u001b[0;32m--> 789\u001b[0;31m                 exception_prefix='target')\n\u001b[0m\u001b[1;32m    790\u001b[0m \u001b[0;34m\u001b[0m\u001b[0m\n\u001b[1;32m    791\u001b[0m             \u001b[0;31m# Generate sample-wise weight values given the `sample_weight` and\u001b[0m\u001b[0;34m\u001b[0m\u001b[0;34m\u001b[0m\u001b[0;34m\u001b[0m\u001b[0m\n",
      "\u001b[0;32m/usr/local/lib/python3.6/dist-packages/keras/engine/training_utils.py\u001b[0m in \u001b[0;36mstandardize_input_data\u001b[0;34m(data, names, shapes, check_batch_axis, exception_prefix)\u001b[0m\n\u001b[1;32m    136\u001b[0m                             \u001b[0;34m': expected '\u001b[0m \u001b[0;34m+\u001b[0m \u001b[0mnames\u001b[0m\u001b[0;34m[\u001b[0m\u001b[0mi\u001b[0m\u001b[0;34m]\u001b[0m \u001b[0;34m+\u001b[0m \u001b[0;34m' to have shape '\u001b[0m \u001b[0;34m+\u001b[0m\u001b[0;34m\u001b[0m\u001b[0;34m\u001b[0m\u001b[0m\n\u001b[1;32m    137\u001b[0m                             \u001b[0mstr\u001b[0m\u001b[0;34m(\u001b[0m\u001b[0mshape\u001b[0m\u001b[0;34m)\u001b[0m \u001b[0;34m+\u001b[0m \u001b[0;34m' but got array with shape '\u001b[0m \u001b[0;34m+\u001b[0m\u001b[0;34m\u001b[0m\u001b[0;34m\u001b[0m\u001b[0m\n\u001b[0;32m--> 138\u001b[0;31m                             str(data_shape))\n\u001b[0m\u001b[1;32m    139\u001b[0m     \u001b[0;32mreturn\u001b[0m \u001b[0mdata\u001b[0m\u001b[0;34m\u001b[0m\u001b[0;34m\u001b[0m\u001b[0m\n\u001b[1;32m    140\u001b[0m \u001b[0;34m\u001b[0m\u001b[0m\n",
      "\u001b[0;31mValueError\u001b[0m: Error when checking target: expected dense_1 to have shape (194,) but got array with shape (1,)"
     ]
    }
   ],
   "source": [
    "#fit\n",
    "batch_size = 64\n",
    "epochs = 3\n",
    "model.fit(x_train, y_train.T,\n",
    "          batch_size=batch_size,\n",
    "          epochs=epochs,\n",
    "          verbose=1,\n",
    "          validation_data=(x_test, y_test.T))"
   ]
  },
  {
   "cell_type": "code",
   "execution_count": 38,
   "metadata": {
    "colab": {
     "base_uri": "https://localhost:8080/",
     "height": 34
    },
    "colab_type": "code",
    "executionInfo": {
     "elapsed": 964,
     "status": "ok",
     "timestamp": 1565221366040,
     "user": {
      "displayName": "",
      "photoUrl": "",
      "userId": ""
     },
     "user_tz": 420
    },
    "id": "yi2ynmuyGa9Y",
    "outputId": "b67868d3-142a-4b37-efd9-181a1261d3cb"
   },
   "outputs": [
    {
     "data": {
      "text/plain": [
       "array([], dtype=float64)"
      ]
     },
     "execution_count": 38,
     "metadata": {
      "tags": []
     },
     "output_type": "execute_result"
    }
   ],
   "source": [
    "y_test"
   ]
  },
  {
   "cell_type": "code",
   "execution_count": null,
   "metadata": {
    "colab": {},
    "colab_type": "code",
    "id": "3THtfVQDGa9d"
   },
   "outputs": [],
   "source": [
    "print('Calculating predicted training values...')\n",
    "y_train_predicted = model.predict(x_train)\n",
    "\n",
    "print('Calculating predicted testing values...')\n",
    "y_test_predicted = model.predict(x_test)"
   ]
  },
  {
   "cell_type": "code",
   "execution_count": null,
   "metadata": {
    "colab": {},
    "colab_type": "code",
    "id": "szLRMC8bGa9h"
   },
   "outputs": [],
   "source": [
    "model.save('model_initial_test.h5')"
   ]
  },
  {
   "cell_type": "code",
   "execution_count": null,
   "metadata": {
    "colab": {},
    "colab_type": "code",
    "id": "GCwgSec6Ga9j"
   },
   "outputs": [],
   "source": [
    "keras.models.load_model('model_initial_test.h5')"
   ]
  },
  {
   "cell_type": "code",
   "execution_count": null,
   "metadata": {
    "colab": {},
    "colab_type": "code",
    "id": "Mi4FNDObGa9m"
   },
   "outputs": [],
   "source": []
  },
  {
   "cell_type": "code",
   "execution_count": null,
   "metadata": {
    "colab": {},
    "colab_type": "code",
    "id": "TjoFjzoGGa9q"
   },
   "outputs": [],
   "source": []
  }
 ],
 "metadata": {
  "accelerator": "GPU",
  "colab": {
   "machine_shape": "hm",
   "name": "Copy of main.ipynb",
   "provenance": [
    {
     "file_id": "https://github.com/andersonsam/cnn_lstm_era/blob/master/main.ipynb",
     "timestamp": 1565221436861
    }
   ],
   "version": "0.3.2"
  },
  "kernelspec": {
   "display_name": "Python 3",
   "language": "python",
   "name": "python3"
  },
  "language_info": {
   "codemirror_mode": {
    "name": "ipython",
    "version": 3
   },
   "file_extension": ".py",
   "mimetype": "text/x-python",
   "name": "python",
   "nbconvert_exporter": "python",
   "pygments_lexer": "ipython3",
   "version": "3.7.1"
  }
 },
 "nbformat": 4,
 "nbformat_minor": 2
}
